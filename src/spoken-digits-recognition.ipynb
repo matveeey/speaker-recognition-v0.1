{
 "cells": [
  {
   "cell_type": "markdown",
   "metadata": {},
   "source": [
    "# Spoken Digits Recognition\n",
    "\n",
    "Term project for Machine Learning UoT course\n",
    "\n",
    "The objective of this Notebook is to predict spoken English digits using a Keras model.\n",
    "\n",
    "This Notebook has three main sections.\n",
    "1. Extract the features of the WAV files, save them into CSV files and store them into Pandas\n",
    "2. The model will be trained based on the data set created by https://github.com/Jakobovski/free-spoken-digit-dataset\n",
    "3. The model will be re-trained based on the previous data plus the recordings made by Ankor (Indian accent), Caroline (Canadian female child accent) and Rodolfo (Brazilian accent)"
   ]
  },
  {
   "cell_type": "markdown",
   "metadata": {},
   "source": []
  },
  {
   "cell_type": "markdown",
   "metadata": {},
   "source": [
    "## Section 1\n",
    "\n",
    "The output of this section is the CSV files with the data to be handle by the model\n",
    "\n",
    "```\n",
    "trainData     : ../data/recordings/train \n",
    "testData      : ../data/recordings/test\n",
    "moreTrainData : ../data/recordings/moreSpeakersTrain\n",
    "moreTestData  : ../data/recordings/moreSpeakersTest\n",
    "```\n"
   ]
  },
  {
   "cell_type": "code",
   "execution_count": 53,
   "metadata": {},
   "outputs": [],
   "source": [
    "# If true, the WAV files will be read and their features will be saved in the CSV files\n",
    "# As this is the most time consuming task, only enable it if you don't have the CSV files yet\n",
    "CREATE_CSV_FILES = True"
   ]
  },
  {
   "cell_type": "code",
   "execution_count": 54,
   "metadata": {},
   "outputs": [],
   "source": [
    "# Defines the names of the CSV files\n",
    "TRAIN_CSV_FILE = \"train_dima_tema.csv\"\n",
    "TEST_CSV_FILE = \"test_dima_tema.csv\"\n",
    "MORE_TRAIN_CSV_FILE = \"more_train.csv\"\n",
    "MORE_TEST_CSV_FILE = \"more_test.csv\""
   ]
  },
  {
   "cell_type": "code",
   "execution_count": 55,
   "metadata": {
    "colab": {
     "base_uri": "https://localhost:8080/",
     "height": 71
    },
    "colab_type": "code",
    "id": "FIUhv3GI8FOF",
    "outputId": "5adb2545-0d54-4494-c1bb-6fbb9f69ed45"
   },
   "outputs": [
    {
     "name": "stdout",
     "output_type": "stream",
     "text": [
      "The features of the files in the folder ../data/recordings/train_dima_tema will be saved to train_dima_tema.csv\n",
      "CSV Header:  ['filename', 'chroma_stft', 'rmse', 'spectral_centroid', 'spectral_bandwidth', 'rolloff', 'zero_crossing_rate', 'mfcc1', 'mfcc2', 'mfcc3', 'mfcc4', 'mfcc5', 'mfcc6', 'mfcc7', 'mfcc8', 'mfcc9', 'mfcc10', 'mfcc11', 'mfcc12', 'mfcc13', 'mfcc14', 'mfcc15', 'mfcc16', 'mfcc17', 'mfcc18', 'mfcc19', 'mfcc20', 'label']\n",
      "End of extractWavFeatures\n",
      "The features of the files in the folder ../data/recordings/test_dima_tema will be saved to test_dima_tema.csv\n",
      "CSV Header:  ['filename', 'chroma_stft', 'rmse', 'spectral_centroid', 'spectral_bandwidth', 'rolloff', 'zero_crossing_rate', 'mfcc1', 'mfcc2', 'mfcc3', 'mfcc4', 'mfcc5', 'mfcc6', 'mfcc7', 'mfcc8', 'mfcc9', 'mfcc10', 'mfcc11', 'mfcc12', 'mfcc13', 'mfcc14', 'mfcc15', 'mfcc16', 'mfcc17', 'mfcc18', 'mfcc19', 'mfcc20', 'label']\n",
      "End of extractWavFeatures\n",
      "The features of the files in the folder ../data/recordings/moreSpeakersTrain will be saved to more_train.csv\n",
      "CSV Header:  ['filename', 'chroma_stft', 'rmse', 'spectral_centroid', 'spectral_bandwidth', 'rolloff', 'zero_crossing_rate', 'mfcc1', 'mfcc2', 'mfcc3', 'mfcc4', 'mfcc5', 'mfcc6', 'mfcc7', 'mfcc8', 'mfcc9', 'mfcc10', 'mfcc11', 'mfcc12', 'mfcc13', 'mfcc14', 'mfcc15', 'mfcc16', 'mfcc17', 'mfcc18', 'mfcc19', 'mfcc20', 'label']\n",
      "End of extractWavFeatures\n",
      "The features of the files in the folder ../data/recordings/moreSpeakersTest will be saved to more_test.csv\n",
      "CSV Header:  ['filename', 'chroma_stft', 'rmse', 'spectral_centroid', 'spectral_bandwidth', 'rolloff', 'zero_crossing_rate', 'mfcc1', 'mfcc2', 'mfcc3', 'mfcc4', 'mfcc5', 'mfcc6', 'mfcc7', 'mfcc8', 'mfcc9', 'mfcc10', 'mfcc11', 'mfcc12', 'mfcc13', 'mfcc14', 'mfcc15', 'mfcc16', 'mfcc17', 'mfcc18', 'mfcc19', 'mfcc20', 'label']\n",
      "End of extractWavFeatures\n",
      "CSV files are created\n"
     ]
    }
   ],
   "source": [
    "import matplotlib.pyplot as plt\n",
    "import numpy as np\n",
    "from matplotlib import cm\n",
    "import librosa\n",
    "import csv\n",
    "import os\n",
    "\n",
    "def extractWavFeatures(soundFilesFolder, csvFileName):\n",
    "    print(\"The features of the files in the folder \"+soundFilesFolder+\" will be saved to \"+csvFileName)\n",
    "    header = 'filename chroma_stft rmse spectral_centroid spectral_bandwidth rolloff zero_crossing_rate'\n",
    "    for i in range(1, 21):\n",
    "        header += f' mfcc{i}'\n",
    "    header += ' label'\n",
    "    header = header.split()\n",
    "    print('CSV Header: ', header)\n",
    "    file = open(csvFileName, 'w', newline='')\n",
    "    writer = csv.writer(file)\n",
    "    writer.writerow(header)\n",
    "    genres = '1 2 3 4 5 6 7 8 9 0'.split()\n",
    "    for filename in os.listdir(soundFilesFolder):\n",
    "        number = f'{soundFilesFolder}/{filename}'\n",
    "        y, sr = librosa.load(number, mono=True, duration=30)\n",
    "        # remove leading and trailing silence\n",
    "        y, index = librosa.effects.trim(y)\n",
    "        chroma_stft = librosa.feature.chroma_stft(y=y, sr=sr)\n",
    "        rmse = librosa.feature.rms(y=y)\n",
    "        spec_cent = librosa.feature.spectral_centroid(y=y, sr=sr)\n",
    "        spec_bw = librosa.feature.spectral_bandwidth(y=y, sr=sr)\n",
    "        rolloff = librosa.feature.spectral_rolloff(y=y, sr=sr)\n",
    "        zcr = librosa.feature.zero_crossing_rate(y)\n",
    "        mfcc = librosa.feature.mfcc(y=y, sr=sr)\n",
    "        to_append = f'{filename} {np.mean(chroma_stft)} {np.mean(rmse)} {np.mean(spec_cent)} {np.mean(spec_bw)} {np.mean(rolloff)} {np.mean(zcr)}'\n",
    "        for e in mfcc:\n",
    "            to_append += f' {np.mean(e)}'\n",
    "        writer.writerow(to_append.split())\n",
    "    file.close()\n",
    "    print(\"End of extractWavFeatures\")\n",
    "\n",
    "if (CREATE_CSV_FILES == True):\n",
    "    extractWavFeatures(\"../data/recordings/train_dima_tema\", TRAIN_CSV_FILE)\n",
    "    extractWavFeatures(\"../data/recordings/test_dima_tema\", TEST_CSV_FILE)\n",
    "    extractWavFeatures(\"../data/recordings/moreSpeakersTrain\", MORE_TRAIN_CSV_FILE)\n",
    "    extractWavFeatures(\"../data/recordings/moreSpeakersTest\", MORE_TEST_CSV_FILE)\n",
    "    print(\"CSV files are created\")\n",
    "else:\n",
    "    print(\"CSV files creation is skipped\")"
   ]
  },
  {
   "cell_type": "code",
   "execution_count": 77,
   "metadata": {
    "colab": {
     "base_uri": "https://localhost:8080/",
     "height": 223
    },
    "colab_type": "code",
    "id": "_TZXrWYiNqCj",
    "outputId": "7d1d926e-64fa-4855-df66-207a97778915"
   },
   "outputs": [
    {
     "name": "stdout",
     "output_type": "stream",
     "text": [
      "train_dima_tema.csv will be preprocessed\n",
      "Preprocessing is finished\n",
      "       rmse  spectral_centroid  spectral_bandwidth      rolloff  \\\n",
      "0  0.111888         729.651442          747.317815  1408.886719   \n",
      "1  0.089477         634.814929          680.864111  1150.153915   \n",
      "2  0.090830         655.621966          718.653233  1181.813965   \n",
      "3  0.087415         710.685129          734.039835  1450.301107   \n",
      "4  0.096261         851.433620          788.105787  1546.177607   \n",
      "\n",
      "   zero_crossing_rate       mfcc1       mfcc2      mfcc3      mfcc4  \\\n",
      "0            0.033465 -297.760559  190.904816 -18.628477   3.553748   \n",
      "1            0.033458 -341.170197  204.418350  -6.565163  12.426304   \n",
      "2            0.033008 -329.472778  196.824692  -3.499283  18.130342   \n",
      "3            0.035626 -322.623840  201.328583  -7.373237   9.652830   \n",
      "4            0.048191 -318.701569  195.884232 -12.353911   1.126135   \n",
      "\n",
      "       mfcc5  ...     mfcc12    mfcc13    mfcc14     mfcc15    mfcc16  \\\n",
      "0  23.493822  ... -26.396330 -6.600565 -5.923729 -11.637072 -1.544120   \n",
      "1  21.769930  ... -23.164633 -2.809320 -4.122797 -15.938338 -0.950073   \n",
      "2  20.140980  ... -19.408489 -4.868689 -8.130574 -11.347403  1.799528   \n",
      "3  17.110407  ... -21.096285 -2.660778 -4.539215 -12.343956  0.519253   \n",
      "4  13.519542  ... -18.254463  4.629067 -4.498162 -16.883486  0.265733   \n",
      "\n",
      "     mfcc17     mfcc18    mfcc19     mfcc20  number  \n",
      "0 -6.581681  -6.001456  1.920624 -13.448553     0.0  \n",
      "1 -2.104083 -11.875075 -1.048442  -5.305485     0.0  \n",
      "2 -9.057466 -11.978509  5.862005  -6.854902     0.0  \n",
      "3 -4.054955  -8.019825  3.043714  -7.803299     0.0  \n",
      "4 -2.826029  -9.726103  3.898500  -3.475365     0.0  \n",
      "\n",
      "[5 rows x 26 columns]\n",
      "test_dima_tema.csv will be preprocessed\n",
      "Preprocessing is finished\n",
      "       rmse  spectral_centroid  spectral_bandwidth      rolloff  \\\n",
      "0  0.094868         737.381592          745.035558  1409.158146   \n",
      "1  0.039497         747.505663          984.694727  1845.275879   \n",
      "2  0.006796         911.441391          895.433124  1995.666504   \n",
      "3  0.015498        2036.316206         2341.229183  4478.906250   \n",
      "4  0.015498        2036.316206         2341.229183  4478.906250   \n",
      "\n",
      "   zero_crossing_rate       mfcc1       mfcc2      mfcc3      mfcc4  \\\n",
      "0            0.037310 -330.162811  181.546036  -0.003926  12.811074   \n",
      "1            0.028890 -390.785400  192.232864 -34.690022  54.570408   \n",
      "2            0.036482 -547.544678  219.518341 -60.242069  17.053772   \n",
      "3            0.080930 -464.053802  114.462791  16.191341  10.367159   \n",
      "4            0.080930 -464.053802  114.462791  16.191341  10.367159   \n",
      "\n",
      "       mfcc5  ...     mfcc12     mfcc13     mfcc14     mfcc15     mfcc16  \\\n",
      "0  22.766605  ... -16.232100   5.665855  -4.043024 -14.384964  -3.541259   \n",
      "1  49.420910  ... -32.991287   1.052894  -4.573581 -14.248681  10.832665   \n",
      "2  40.544239  ... -28.285969   2.758897  -8.252637 -16.315981   7.705584   \n",
      "3  16.298548  ...   4.051403 -14.331759  10.487463 -10.849960   7.501403   \n",
      "4  16.298548  ...   4.051403 -14.331759  10.487463 -10.849960   7.501403   \n",
      "\n",
      "      mfcc17     mfcc18    mfcc19     mfcc20  number  \n",
      "0 -10.811654 -12.080119 -1.636628 -13.253112     0.0  \n",
      "1  -0.528191  -7.513762  9.507861  -4.837220     0.0  \n",
      "2  -7.336659 -12.691132  5.128728  -9.363704     0.0  \n",
      "3  -6.059965  -0.012275 -0.848337  -0.684365     1.0  \n",
      "4  -6.059965  -0.012275 -0.848337  -0.684365     1.0  \n",
      "\n",
      "[5 rows x 26 columns]\n",
      "more_train.csv will be preprocessed\n",
      "Preprocessing is finished\n",
      "       rmse  spectral_centroid  spectral_bandwidth      rolloff  \\\n",
      "0  0.039694        1329.760336         1834.695417  2485.290527   \n",
      "1  0.298682         877.429329         1128.388924  1825.459929   \n",
      "2  0.026793        1240.702218         1210.861163  2372.793344   \n",
      "3  0.027111        1480.206030         1969.047348  2965.122070   \n",
      "4  0.298720         622.605076          785.782399  1029.287109   \n",
      "\n",
      "   zero_crossing_rate       mfcc1       mfcc2      mfcc3      mfcc4  \\\n",
      "0            0.091654 -352.405396  137.010544  17.641403  13.531849   \n",
      "1            0.031423 -226.336960  149.934036 -11.724700   5.142288   \n",
      "2            0.059871 -380.034698  180.319092 -40.865520  21.924974   \n",
      "3            0.080884 -406.939606  129.860687  21.286100   9.660098   \n",
      "4            0.023584 -229.755096  191.407867   1.615408  17.742882   \n",
      "\n",
      "       mfcc5  ...     mfcc12     mfcc13     mfcc14     mfcc15     mfcc16  \\\n",
      "0 -10.107951  ... -11.588445  -4.204743  -2.979444  -9.408936  -3.491331   \n",
      "1 -16.538986  ... -13.127874 -13.396846 -17.909325 -17.644899 -18.157391   \n",
      "2  -8.844147  ... -32.529964  -5.166595  -8.756952 -11.420583 -10.555491   \n",
      "3  -8.748709  ...  -5.042984  -4.784137  -1.391603 -15.611128  -8.208051   \n",
      "4  -4.622198  ...  -5.758853  -9.679529 -15.564908 -17.918386 -14.292257   \n",
      "\n",
      "      mfcc17     mfcc18     mfcc19     mfcc20  number  \n",
      "0  -3.971164  -0.122394  -4.772081   3.815845     0.0  \n",
      "1 -14.817274 -16.810503 -11.021955 -10.459919     0.0  \n",
      "2  -9.252938  -4.785254  -5.806641  -7.431336     0.0  \n",
      "3  -9.069584  -1.469988 -13.141657  -3.252784     1.0  \n",
      "4 -14.897099  -9.727541 -10.361094  -7.824204     1.0  \n",
      "\n",
      "[5 rows x 26 columns]\n",
      "more_test.csv will be preprocessed\n",
      "Preprocessing is finished\n",
      "       rmse  spectral_centroid  spectral_bandwidth      rolloff  \\\n",
      "0  0.070323        1721.845984         1667.915332  2750.632643   \n",
      "1  0.177419         973.113344         1213.305748  2172.569691   \n",
      "2  0.159183        1126.870079         1122.730156  2225.787823   \n",
      "3  0.102272        1251.618911         1588.745287  2412.961050   \n",
      "4  0.235414         840.601042          991.290979  1425.624713   \n",
      "\n",
      "   zero_crossing_rate       mfcc1       mfcc2      mfcc3      mfcc4  \\\n",
      "0            0.095682 -273.386810  122.052238 -18.120747  26.753256   \n",
      "1            0.045351 -232.324890  171.214218  -6.090285  21.101772   \n",
      "2            0.056547 -261.390015  169.500595 -13.344313   0.090094   \n",
      "3            0.056190 -266.060608  155.572754 -10.398797   1.814468   \n",
      "4            0.037626 -194.095245  189.274734 -28.463396  16.556648   \n",
      "\n",
      "       mfcc5  ...     mfcc12    mfcc13     mfcc14     mfcc15     mfcc16  \\\n",
      "0 -10.161090  ... -19.109797 -1.998643 -10.978312  -9.333076  -3.353121   \n",
      "1  -3.224269  ... -14.106202 -9.618928 -10.035474 -15.426900 -17.018488   \n",
      "2   8.959075  ... -26.076048 -3.504471  -5.932002 -14.929646 -12.102993   \n",
      "3  -5.807219  ...  -9.602718 -0.439673 -10.680938  -6.100654  -0.250653   \n",
      "4 -13.609222  ... -14.342304 -6.720979 -15.009945 -11.107927 -11.293676   \n",
      "\n",
      "      mfcc17     mfcc18     mfcc19     mfcc20  number  \n",
      "0   1.418088  -5.588639  -7.966839   0.954758     0.0  \n",
      "1 -13.077676  -9.024190   1.311443  -5.187285     0.0  \n",
      "2  -6.093761  -2.259593  -7.295313 -11.831517     0.0  \n",
      "3   6.504090 -10.797561 -11.562947  -0.182308     1.0  \n",
      "4  -9.681244 -11.540298  -6.986438  -6.416656     1.0  \n",
      "\n",
      "[5 rows x 26 columns]\n"
     ]
    }
   ],
   "source": [
    "#Reading a dataset and convert file name to corresponding number\n",
    "\n",
    "import pandas as pd\n",
    "import csv\n",
    "from sklearn import preprocessing\n",
    "\n",
    "def preProcessData(csvFileName):\n",
    "    print(csvFileName+ \" will be preprocessed\")\n",
    "    data = pd.read_csv(csvFileName)\n",
    "    data['number'] = data['filename'].str[:1].astype('float32')\n",
    "    #Dropping unnecessary columns\n",
    "    data = data.drop(['filename'],axis=1)\n",
    "    data = data.drop(['label'],axis=1)\n",
    "    data = data.drop(['chroma_stft'],axis=1)\n",
    "    data.shape\n",
    "\n",
    "    print(\"Preprocessing is finished\")\n",
    "    print(data.head())\n",
    "    return data\n",
    "\n",
    "trainData = preProcessData(TRAIN_CSV_FILE)\n",
    "testData = preProcessData(TEST_CSV_FILE)\n",
    "moreTrainData = preProcessData(MORE_TRAIN_CSV_FILE)\n",
    "moreTestData = preProcessData(MORE_TEST_CSV_FILE)"
   ]
  },
  {
   "cell_type": "markdown",
   "metadata": {},
   "source": []
  },
  {
   "cell_type": "markdown",
   "metadata": {},
   "source": [
    "## Section 2\n",
    "\n",
    "There are 50 recordings for each digit for each speaker: Jackson, Nicolas and Theo (total 1500 recordings)\n",
    "\n",
    "Training data has 49 recordings for each digit for each speaker: 1470 recordings total.\n",
    "Test data has 1 recordings for each digit for each speaker: 30 recordings total.\n",
    "\n",
    "The data used here comes from the recordings stored in:\n",
    "* ../data/recordings/train\n",
    "* ../data/recordings/test\n",
    "\n",
    "The model will be trained to predict the spoken digit."
   ]
  },
  {
   "cell_type": "markdown",
   "metadata": {
    "colab_type": "text",
    "id": "GPbfaLTrap87"
   },
   "source": []
  },
  {
   "cell_type": "code",
   "execution_count": 78,
   "metadata": {
    "colab": {},
    "colab_type": "code",
    "id": "UEy6oG8RQmnN"
   },
   "outputs": [
    {
     "name": "stdout",
     "output_type": "stream",
     "text": [
      "Y from training data: (1029,)\n",
      "Y from validation data: (441,)\n",
      "Y from test data: (30,)\n"
     ]
    }
   ],
   "source": [
    "# Splitting the dataset into training, validation and testing dataset\n",
    "from sklearn.model_selection import train_test_split\n",
    "X = np.array(trainData.iloc[:, :-1], dtype = float)\n",
    "y = trainData.iloc[:, -1]\n",
    "X_train, X_val, y_train, y_val = train_test_split(X, y, test_size=0.3, random_state=42)\n",
    "\n",
    "\n",
    "X_test = np.array(testData.iloc[:, :-1], dtype = float)\n",
    "y_test = testData.iloc[:, -1]\n",
    "\n",
    "print(\"Y from training data:\", y_train.shape)\n",
    "print(\"Y from validation data:\", y_val.shape)\n",
    "print(\"Y from test data:\", y_test.shape)"
   ]
  },
  {
   "cell_type": "code",
   "execution_count": 79,
   "metadata": {
    "colab": {
     "base_uri": "https://localhost:8080/",
     "height": 34
    },
    "colab_type": "code",
    "id": "S1o-OccqP5Ax",
    "outputId": "c93e0d6f-f5c0-4208-b0e5-7ecba885cddc"
   },
   "outputs": [
    {
     "name": "stdout",
     "output_type": "stream",
     "text": [
      "X from training data (1029, 25)\n",
      "X from validation data (441, 25)\n",
      "X from test data (30, 25)\n"
     ]
    }
   ],
   "source": [
    "#Normalizing the dataset\n",
    "from sklearn.preprocessing import StandardScaler\n",
    "import numpy as np\n",
    "scaler = StandardScaler()\n",
    "X_train = scaler.fit_transform( X_train )\n",
    "X_val = scaler.transform( X_val )\n",
    "X_test = scaler.transform( X_test )\n",
    "\n",
    "print(\"X from training data\", X_train.shape)\n",
    "print(\"X from validation data\", X_val.shape)\n",
    "print(\"X from test data\", X_test.shape)"
   ]
  },
  {
   "cell_type": "code",
   "execution_count": 59,
   "metadata": {
    "colab": {
     "base_uri": "https://localhost:8080/",
     "height": 203
    },
    "colab_type": "code",
    "id": "Q06tYXcdQZFp",
    "outputId": "8ab73b51-7592-450c-b152-8746e2f11b87"
   },
   "outputs": [
    {
     "name": "stdout",
     "output_type": "stream",
     "text": [
      "Epoch 1/50\n",
      "9/9 [==============================] - 2s 54ms/step - loss: 2.4077 - accuracy: 0.1263 - val_loss: 2.0780 - val_accuracy: 0.4694\n",
      "Epoch 2/50\n",
      "9/9 [==============================] - 0s 15ms/step - loss: 2.1097 - accuracy: 0.2391 - val_loss: 1.9308 - val_accuracy: 0.5692\n",
      "Epoch 3/50\n",
      "9/9 [==============================] - 0s 16ms/step - loss: 2.0024 - accuracy: 0.2692 - val_loss: 1.7943 - val_accuracy: 0.5782\n",
      "Epoch 4/50\n",
      "9/9 [==============================] - 0s 14ms/step - loss: 1.8507 - accuracy: 0.3333 - val_loss: 1.6644 - val_accuracy: 0.5782\n",
      "Epoch 5/50\n",
      "9/9 [==============================] - 0s 14ms/step - loss: 1.6871 - accuracy: 0.4023 - val_loss: 1.5194 - val_accuracy: 0.5692\n",
      "Epoch 6/50\n",
      "9/9 [==============================] - 0s 15ms/step - loss: 1.6180 - accuracy: 0.4315 - val_loss: 1.3665 - val_accuracy: 0.6145\n",
      "Epoch 7/50\n",
      "9/9 [==============================] - 0s 18ms/step - loss: 1.4996 - accuracy: 0.4898 - val_loss: 1.2132 - val_accuracy: 0.6757\n",
      "Epoch 8/50\n",
      "9/9 [==============================] - 0s 16ms/step - loss: 1.3611 - accuracy: 0.5160 - val_loss: 1.0700 - val_accuracy: 0.7370\n",
      "Epoch 9/50\n",
      "9/9 [==============================] - 0s 15ms/step - loss: 1.2729 - accuracy: 0.5578 - val_loss: 0.9484 - val_accuracy: 0.7528\n",
      "Epoch 10/50\n",
      "9/9 [==============================] - 0s 19ms/step - loss: 1.1674 - accuracy: 0.5850 - val_loss: 0.8487 - val_accuracy: 0.7868\n",
      "Epoch 11/50\n",
      "9/9 [==============================] - 0s 17ms/step - loss: 1.0270 - accuracy: 0.6395 - val_loss: 0.7366 - val_accuracy: 0.8435\n",
      "Epoch 12/50\n",
      "9/9 [==============================] - 0s 14ms/step - loss: 1.0166 - accuracy: 0.6521 - val_loss: 0.6358 - val_accuracy: 0.8912\n",
      "Epoch 13/50\n",
      "9/9 [==============================] - 0s 16ms/step - loss: 0.8952 - accuracy: 0.6744 - val_loss: 0.5547 - val_accuracy: 0.9093\n",
      "Epoch 14/50\n",
      "9/9 [==============================] - 0s 16ms/step - loss: 0.8404 - accuracy: 0.7104 - val_loss: 0.4889 - val_accuracy: 0.9116\n",
      "Epoch 15/50\n",
      "9/9 [==============================] - 0s 16ms/step - loss: 0.7935 - accuracy: 0.7269 - val_loss: 0.4390 - val_accuracy: 0.9138\n",
      "Epoch 16/50\n",
      "9/9 [==============================] - 0s 16ms/step - loss: 0.7389 - accuracy: 0.7425 - val_loss: 0.4063 - val_accuracy: 0.9297\n",
      "Epoch 17/50\n",
      "9/9 [==============================] - 0s 16ms/step - loss: 0.7121 - accuracy: 0.7551 - val_loss: 0.3767 - val_accuracy: 0.9252\n",
      "Epoch 18/50\n",
      "9/9 [==============================] - 0s 14ms/step - loss: 0.6796 - accuracy: 0.7600 - val_loss: 0.3486 - val_accuracy: 0.9274\n",
      "Epoch 19/50\n",
      "9/9 [==============================] - 0s 16ms/step - loss: 0.6508 - accuracy: 0.7629 - val_loss: 0.3155 - val_accuracy: 0.9388\n",
      "Epoch 20/50\n",
      "9/9 [==============================] - 0s 14ms/step - loss: 0.6483 - accuracy: 0.7697 - val_loss: 0.2983 - val_accuracy: 0.9388\n",
      "Epoch 21/50\n",
      "9/9 [==============================] - 0s 13ms/step - loss: 0.6218 - accuracy: 0.7813 - val_loss: 0.2860 - val_accuracy: 0.9320\n",
      "Epoch 22/50\n",
      "9/9 [==============================] - 0s 13ms/step - loss: 0.5911 - accuracy: 0.7988 - val_loss: 0.2677 - val_accuracy: 0.9365\n",
      "Epoch 23/50\n",
      "9/9 [==============================] - 0s 14ms/step - loss: 0.5601 - accuracy: 0.8095 - val_loss: 0.2407 - val_accuracy: 0.9501\n",
      "Epoch 24/50\n",
      "9/9 [==============================] - 0s 15ms/step - loss: 0.4836 - accuracy: 0.8348 - val_loss: 0.2204 - val_accuracy: 0.9615\n",
      "Epoch 25/50\n",
      "9/9 [==============================] - 0s 14ms/step - loss: 0.5349 - accuracy: 0.8222 - val_loss: 0.2153 - val_accuracy: 0.9637\n",
      "Epoch 26/50\n",
      "9/9 [==============================] - 0s 14ms/step - loss: 0.5602 - accuracy: 0.8144 - val_loss: 0.2164 - val_accuracy: 0.9524\n",
      "Epoch 27/50\n",
      "9/9 [==============================] - 0s 16ms/step - loss: 0.5003 - accuracy: 0.8426 - val_loss: 0.2098 - val_accuracy: 0.9501\n",
      "Epoch 28/50\n",
      "9/9 [==============================] - 0s 16ms/step - loss: 0.4567 - accuracy: 0.8610 - val_loss: 0.1969 - val_accuracy: 0.9524\n",
      "Epoch 29/50\n",
      "9/9 [==============================] - 0s 14ms/step - loss: 0.4902 - accuracy: 0.8212 - val_loss: 0.1906 - val_accuracy: 0.9546\n",
      "Epoch 30/50\n",
      "9/9 [==============================] - 0s 17ms/step - loss: 0.4553 - accuracy: 0.8416 - val_loss: 0.1692 - val_accuracy: 0.9592\n",
      "Epoch 31/50\n",
      "9/9 [==============================] - 0s 17ms/step - loss: 0.4364 - accuracy: 0.8542 - val_loss: 0.1609 - val_accuracy: 0.9660\n",
      "Epoch 32/50\n",
      "9/9 [==============================] - 0s 15ms/step - loss: 0.4181 - accuracy: 0.8484 - val_loss: 0.1593 - val_accuracy: 0.9683\n",
      "Epoch 33/50\n",
      "9/9 [==============================] - 0s 13ms/step - loss: 0.3717 - accuracy: 0.8931 - val_loss: 0.1615 - val_accuracy: 0.9683\n",
      "Epoch 34/50\n",
      "9/9 [==============================] - 0s 14ms/step - loss: 0.3920 - accuracy: 0.8707 - val_loss: 0.1539 - val_accuracy: 0.9683\n",
      "Epoch 35/50\n",
      "9/9 [==============================] - 0s 15ms/step - loss: 0.3865 - accuracy: 0.8766 - val_loss: 0.1439 - val_accuracy: 0.9615\n",
      "Epoch 36/50\n",
      "9/9 [==============================] - 0s 17ms/step - loss: 0.3923 - accuracy: 0.8639 - val_loss: 0.1368 - val_accuracy: 0.9615\n",
      "Epoch 37/50\n",
      "9/9 [==============================] - 0s 17ms/step - loss: 0.3897 - accuracy: 0.8756 - val_loss: 0.1339 - val_accuracy: 0.9637\n",
      "Epoch 38/50\n",
      "9/9 [==============================] - 0s 14ms/step - loss: 0.3252 - accuracy: 0.8970 - val_loss: 0.1299 - val_accuracy: 0.9728\n",
      "Epoch 39/50\n",
      "9/9 [==============================] - 0s 13ms/step - loss: 0.3431 - accuracy: 0.8863 - val_loss: 0.1267 - val_accuracy: 0.9683\n",
      "Epoch 40/50\n",
      "9/9 [==============================] - 0s 14ms/step - loss: 0.3429 - accuracy: 0.8941 - val_loss: 0.1237 - val_accuracy: 0.9683\n",
      "Epoch 41/50\n",
      "9/9 [==============================] - 0s 16ms/step - loss: 0.3378 - accuracy: 0.8853 - val_loss: 0.1195 - val_accuracy: 0.9728\n",
      "Epoch 42/50\n",
      "9/9 [==============================] - 0s 14ms/step - loss: 0.3053 - accuracy: 0.8989 - val_loss: 0.1130 - val_accuracy: 0.9773\n",
      "Epoch 43/50\n",
      "9/9 [==============================] - 0s 17ms/step - loss: 0.3422 - accuracy: 0.8950 - val_loss: 0.1100 - val_accuracy: 0.9773\n",
      "Epoch 44/50\n",
      "9/9 [==============================] - 0s 17ms/step - loss: 0.2888 - accuracy: 0.9106 - val_loss: 0.1095 - val_accuracy: 0.9773\n",
      "Epoch 45/50\n",
      "9/9 [==============================] - 0s 16ms/step - loss: 0.2829 - accuracy: 0.9155 - val_loss: 0.1075 - val_accuracy: 0.9819\n",
      "Epoch 46/50\n",
      "9/9 [==============================] - 0s 15ms/step - loss: 0.2780 - accuracy: 0.9106 - val_loss: 0.1052 - val_accuracy: 0.9796\n",
      "Epoch 47/50\n",
      "9/9 [==============================] - 0s 14ms/step - loss: 0.2625 - accuracy: 0.9096 - val_loss: 0.1050 - val_accuracy: 0.9819\n",
      "Epoch 48/50\n",
      "9/9 [==============================] - 0s 14ms/step - loss: 0.2715 - accuracy: 0.9125 - val_loss: 0.1024 - val_accuracy: 0.9796\n",
      "Epoch 49/50\n",
      "9/9 [==============================] - 0s 16ms/step - loss: 0.2723 - accuracy: 0.9125 - val_loss: 0.1050 - val_accuracy: 0.9728\n",
      "Epoch 50/50\n",
      "9/9 [==============================] - 0s 14ms/step - loss: 0.2647 - accuracy: 0.9145 - val_loss: 0.1031 - val_accuracy: 0.9728\n"
     ]
    }
   ],
   "source": [
    "#Creating a Model\n",
    "from keras import models\n",
    "from keras import layers\n",
    "import keras\n",
    "\n",
    "# model 1\n",
    "model = models.Sequential()\n",
    "model.add(layers.Dense(256, activation='relu', input_shape=(X_train.shape[1],)))\n",
    "model.add(layers.Dropout(0.5))\n",
    "model.add(layers.Dense(128, activation='relu'))\n",
    "model.add(layers.Dropout(0.5))\n",
    "model.add(layers.Dense(64, activation='relu'))\n",
    "model.add(layers.Dropout(0.5))\n",
    "model.add(layers.Dense(10, activation='softmax'))\n",
    "\n",
    "# Learning Process of a model\n",
    "model.compile(optimizer='adam',\n",
    "              loss='sparse_categorical_crossentropy',\n",
    "              metrics=['accuracy'])\n",
    "\n",
    "# simple early stopping\n",
    "from keras.callbacks import EarlyStopping\n",
    "\n",
    "es = EarlyStopping(monitor='val_loss', mode='min', verbose=1)\n",
    "\n",
    "#Train with early stopping to avoid overfitting\n",
    "history = model.fit(X_train,\n",
    "                    y_train,\n",
    "                    validation_data=(X_val, y_val),\n",
    "                    epochs=50,\n",
    "                    batch_size=128)"
   ]
  },
  {
   "cell_type": "code",
   "execution_count": 60,
   "metadata": {
    "colab": {
     "base_uri": "https://localhost:8080/",
     "height": 267
    },
    "colab_type": "code",
    "id": "z3nvtYKVa5HD",
    "outputId": "b858b37f-8e47-4cb4-a737-ef960246254b"
   },
   "outputs": [
    {
     "data": {
      "image/png": "[encoded data removed]",
      "text/plain": [
       "<Figure size 432x288 with 1 Axes>"
      ]
     },
     "metadata": {
      "needs_background": "light"
     },
     "output_type": "display_data"
    }
   ],
   "source": [
    "# plot training history\n",
    "from matplotlib import pyplot\n",
    "pyplot.plot(history.history['loss'], label='train')\n",
    "pyplot.plot(history.history['val_loss'], label='test')\n",
    "pyplot.legend()\n",
    "pyplot.show()"
   ]
  },
  {
   "cell_type": "markdown",
   "metadata": {},
   "source": [
    "### Auxiliary functions to show the results"
   ]
  },
  {
   "cell_type": "code",
   "execution_count": 74,
   "metadata": {},
   "outputs": [],
   "source": [
    "def printPrediction(X_data, y_data):\n",
    "    print('\\n# Generate predictions')\n",
    "    for i in range(len(y_data)):\n",
    "        prediction = np.argmax(model.predict(X_data[i:i+1]), axis=-1)\n",
    "        print(\"y={}, prediction={}, match={}\".format(y_data[i], prediction, y_data[i]==str(prediction[0])))"
   ]
  },
  {
   "cell_type": "code",
   "execution_count": 81,
   "metadata": {},
   "outputs": [],
   "source": [
    "import numpy as np\n",
    "from keras import backend as K\n",
    "from keras.models import Sequential\n",
    "from keras.layers.core import Dense, Dropout, Activation, Flatten\n",
    "from keras.layers.convolutional import Convolution2D, MaxPooling2D\n",
    "from keras.preprocessing.image import ImageDataGenerator\n",
    "from sklearn.metrics import classification_report, confusion_matrix\n",
    "\n",
    "def report(X_data, y_data):\n",
    "    #Confution Matrix and Classification Report\n",
    "    Y_pred = np.argmax(model.predict(X_data), axis=-1)\n",
    "    y_test_num = y_data.astype(np.int64)\n",
    "    print('Confusion Matrix')\n",
    "    conf_mt = confusion_matrix(y_test_num, Y_pred)\n",
    "    print(conf_mt)\n",
    "    plt.matshow(conf_mt)\n",
    "    plt.show()\n",
    "    \n",
    "    print('\\nClassification Report')\n",
    "    target_names = ['0', '1', '2', '3', '4', '5', '6', '7', '8', '9']\n",
    "    print(classification_report(y_test_num, Y_pred, target_names=target_names))"
   ]
  },
  {
   "cell_type": "markdown",
   "metadata": {},
   "source": [
    "### Present the model performance"
   ]
  },
  {
   "cell_type": "code",
   "execution_count": 85,
   "metadata": {
    "colab": {
     "base_uri": "https://localhost:8080/",
     "height": 86
    },
    "colab_type": "code",
    "id": "HSVxu84pRgZa",
    "outputId": "eb9242c9-7bff-4d54-a58c-60a915aad7d2",
    "scrolled": true
   },
   "outputs": [
    {
     "name": "stdout",
     "output_type": "stream",
     "text": [
      "\n",
      "# TEST DATA #\n",
      "\n",
      "1/1 [==============================] - 0s 58ms/step - loss: 0.1656 - accuracy: 0.9333\n",
      "accuracy: 93.33%\n",
      "\n",
      "# Generate predictions\n",
      "1/1 [==============================] - 0s 50ms/step\n",
      "y=0.0, prediction=[0], match=False\n",
      "1/1 [==============================] - 0s 56ms/step\n",
      "y=0.0, prediction=[3], match=False\n",
      "1/1 [==============================] - 0s 49ms/step\n",
      "y=0.0, prediction=[0], match=False\n",
      "1/1 [==============================] - 0s 57ms/step\n",
      "y=1.0, prediction=[1], match=False\n",
      "1/1 [==============================] - 0s 58ms/step\n",
      "y=1.0, prediction=[1], match=False\n",
      "1/1 [==============================] - 0s 48ms/step\n",
      "y=1.0, prediction=[1], match=False\n",
      "1/1 [==============================] - 0s 57ms/step\n",
      "y=2.0, prediction=[2], match=False\n",
      "1/1 [==============================] - 0s 48ms/step\n",
      "y=2.0, prediction=[2], match=False\n",
      "1/1 [==============================] - 0s 56ms/step\n",
      "y=2.0, prediction=[3], match=False\n",
      "1/1 [==============================] - 0s 56ms/step\n",
      "y=3.0, prediction=[3], match=False\n"
     ]
    }
   ],
   "source": [
    "print('\\n# TEST DATA #\\n')\n",
    "score = model.evaluate(X_test, y_test)\n",
    "print(\"%s: %.2f%%\" % (model.metrics_names[1], score[1]*100))\n",
    "\n",
    "# Prediction\n",
    "printPrediction(X_test[0:10], y_test[0:10])"
   ]
  },
  {
   "cell_type": "code",
   "execution_count": 82,
   "metadata": {},
   "outputs": [
    {
     "name": "stdout",
     "output_type": "stream",
     "text": [
      "Classification Report for Test Data\n",
      "\n",
      "1/1 [==============================] - 0s 65ms/step\n",
      "Confusion Matrix\n",
      "[[2 0 0 1 0 0 0 0 0 0]\n",
      " [0 3 0 0 0 0 0 0 0 0]\n",
      " [0 0 2 1 0 0 0 0 0 0]\n",
      " [0 0 0 3 0 0 0 0 0 0]\n",
      " [0 0 0 0 3 0 0 0 0 0]\n",
      " [0 0 0 0 0 3 0 0 0 0]\n",
      " [0 0 0 0 0 0 3 0 0 0]\n",
      " [0 0 0 0 0 0 0 3 0 0]\n",
      " [0 0 0 0 0 0 0 0 3 0]\n",
      " [0 0 0 0 0 0 0 0 0 3]]\n"
     ]
    },
    {
     "data": {
      "image/png": "[encoded data removed]",
      "text/plain": [
       "<Figure size 288x288 with 1 Axes>"
      ]
     },
     "metadata": {
      "needs_background": "light"
     },
     "output_type": "display_data"
    },
    {
     "name": "stdout",
     "output_type": "stream",
     "text": [
      "\n",
      "Classification Report\n",
      "              precision    recall  f1-score   support\n",
      "\n",
      "           0       1.00      0.67      0.80         3\n",
      "           1       1.00      1.00      1.00         3\n",
      "           2       1.00      0.67      0.80         3\n",
      "           3       0.60      1.00      0.75         3\n",
      "           4       1.00      1.00      1.00         3\n",
      "           5       1.00      1.00      1.00         3\n",
      "           6       1.00      1.00      1.00         3\n",
      "           7       1.00      1.00      1.00         3\n",
      "           8       1.00      1.00      1.00         3\n",
      "           9       1.00      1.00      1.00         3\n",
      "\n",
      "    accuracy                           0.93        30\n",
      "   macro avg       0.96      0.93      0.93        30\n",
      "weighted avg       0.96      0.93      0.94        30\n",
      "\n"
     ]
    }
   ],
   "source": [
    "print(\"Classification Report for Test Data\\n\")\n",
    "report(X_test, y_test)\n"
   ]
  },
  {
   "cell_type": "code",
   "execution_count": null,
   "metadata": {},
   "outputs": [],
   "source": []
  },
  {
   "cell_type": "markdown",
   "metadata": {},
   "source": [
    "## Section 3\n",
    "\n",
    "There are 50 recordings for each digit for each speaker: Jackson, Nicolas and Theo (total 1500 recordings)\n",
    "Training data has 49 recordings for each digit for each speaker: 1470 recordings total.\n",
    "Test data has 1 recordings for each digit for each speaker: 30 recordings total.\n",
    "\n",
    "In addition, there are 2 recordings for each digit for each speaker: Ankur, Caroline and Rodolfo (total 60 recordings)\n",
    "This addition training data has 1 recordings for each digit for each speaker: 30 recordings total.\n",
    "This addition test data has 1 recordings for each digit for each speaker: 30 recordings total.\n",
    "\n",
    "Therefore the full data set has:\n",
    "* Training: 1500 recordings\n",
    "* Training: 60 recordings\n",
    "\n",
    "The data used here comes from the recordings stored in:\n",
    "* ../data/recordings/train\n",
    "* ../data/recordings/test\n",
    "* ../data/recordings/moreSpeakersTrain\n",
    "* ../data/recordings/moreSpeakersTest"
   ]
  },
  {
   "cell_type": "code",
   "execution_count": 83,
   "metadata": {
    "colab": {},
    "colab_type": "code",
    "id": "UEy6oG8RQmnN"
   },
   "outputs": [
    {
     "name": "stdout",
     "output_type": "stream",
     "text": [
      "Y from training data: (1050,)\n",
      "Y from validation data: (450,)\n",
      "Y from test data: (30,)\n",
      "Y from other speakers test data: (30,)\n"
     ]
    },
    {
     "name": "stderr",
     "output_type": "stream",
     "text": [
      "C:\\Users\\seeyo\\AppData\\Local\\Temp\\ipykernel_13232\\1552578682.py:4: FutureWarning: The frame.append method is deprecated and will be removed from pandas in a future version. Use pandas.concat instead.\n",
      "  fullTrainData = trainData.append(moreTrainData)\n"
     ]
    }
   ],
   "source": [
    "# Splitting the dataset into training, validation and testing dataset\n",
    "from sklearn.model_selection import train_test_split\n",
    "\n",
    "fullTrainData = trainData.append(moreTrainData)\n",
    "\n",
    "X = np.array(fullTrainData.iloc[:, :-1], dtype = float)\n",
    "y = fullTrainData.iloc[:, -1]\n",
    "X_train, X_val, y_train, y_val = train_test_split(X, y, test_size=0.3, random_state=42)\n",
    "\n",
    "X_test = np.array(testData.iloc[:, :-1], dtype = float)\n",
    "y_test = testData.iloc[:, -1]\n",
    "\n",
    "X_more_test = np.array(moreTestData.iloc[:, :-1], dtype = float)\n",
    "y_more_test = moreTestData.iloc[:, -1]\n",
    "\n",
    "print(\"Y from training data:\", y_train.shape)\n",
    "print(\"Y from validation data:\", y_val.shape)\n",
    "print(\"Y from test data:\", y_test.shape)\n",
    "print(\"Y from other speakers test data:\", y_more_test.shape)\n"
   ]
  },
  {
   "cell_type": "code",
   "execution_count": 84,
   "metadata": {
    "colab": {
     "base_uri": "https://localhost:8080/",
     "height": 34
    },
    "colab_type": "code",
    "id": "S1o-OccqP5Ax",
    "outputId": "c93e0d6f-f5c0-4208-b0e5-7ecba885cddc"
   },
   "outputs": [
    {
     "name": "stdout",
     "output_type": "stream",
     "text": [
      "X from training data (1050, 25)\n",
      "X from validation data (450, 25)\n",
      "X from test data (30, 25)\n",
      "X from other speakers test data (30, 25)\n"
     ]
    }
   ],
   "source": [
    "#Normalizing the dataset\n",
    "from sklearn.preprocessing import StandardScaler\n",
    "import numpy as np\n",
    "scaler = StandardScaler()\n",
    "X_train = scaler.fit_transform( X_train )\n",
    "X_val = scaler.transform( X_val )\n",
    "X_test = scaler.transform( X_test )\n",
    "X_more_test = scaler.transform( X_more_test )\n",
    "\n",
    "print(\"X from training data\", X_train.shape)\n",
    "print(\"X from validation data\", X_val.shape)\n",
    "print(\"X from test data\", X_test.shape)\n",
    "print(\"X from other speakers test data\", X_more_test.shape)\n"
   ]
  },
  {
   "cell_type": "code",
   "execution_count": 18,
   "metadata": {
    "colab": {
     "base_uri": "https://localhost:8080/",
     "height": 203
    },
    "colab_type": "code",
    "id": "Q06tYXcdQZFp",
    "outputId": "8ab73b51-7592-450c-b152-8746e2f11b87"
   },
   "outputs": [
    {
     "name": "stdout",
     "output_type": "stream",
     "text": [
      "Epoch 1/50\n"
     ]
    },
    {
     "ename": "UnimplementedError",
     "evalue": "Graph execution error:\n\nDetected at node 'Cast_1' defined at (most recent call last):\n    File \"c:\\Users\\seeyo\\AppData\\Local\\Programs\\Python\\Python310\\lib\\runpy.py\", line 196, in _run_module_as_main\n      return _run_code(code, main_globals, None,\n    File \"c:\\Users\\seeyo\\AppData\\Local\\Programs\\Python\\Python310\\lib\\runpy.py\", line 86, in _run_code\n      exec(code, run_globals)\n    File \"c:\\Users\\seeyo\\AppData\\Local\\Programs\\Python\\Python310\\lib\\site-packages\\ipykernel_launcher.py\", line 17, in <module>\n      app.launch_new_instance()\n    File \"c:\\Users\\seeyo\\AppData\\Local\\Programs\\Python\\Python310\\lib\\site-packages\\traitlets\\config\\application.py\", line 846, in launch_instance\n      app.start()\n    File \"c:\\Users\\seeyo\\AppData\\Local\\Programs\\Python\\Python310\\lib\\site-packages\\ipykernel\\kernelapp.py\", line 712, in start\n      self.io_loop.start()\n    File \"c:\\Users\\seeyo\\AppData\\Local\\Programs\\Python\\Python310\\lib\\site-packages\\tornado\\platform\\asyncio.py\", line 199, in start\n      self.asyncio_loop.run_forever()\n    File \"c:\\Users\\seeyo\\AppData\\Local\\Programs\\Python\\Python310\\lib\\asyncio\\base_events.py\", line 600, in run_forever\n      self._run_once()\n    File \"c:\\Users\\seeyo\\AppData\\Local\\Programs\\Python\\Python310\\lib\\asyncio\\base_events.py\", line 1896, in _run_once\n      handle._run()\n    File \"c:\\Users\\seeyo\\AppData\\Local\\Programs\\Python\\Python310\\lib\\asyncio\\events.py\", line 80, in _run\n      self._context.run(self._callback, *self._args)\n    File \"c:\\Users\\seeyo\\AppData\\Local\\Programs\\Python\\Python310\\lib\\site-packages\\ipykernel\\kernelbase.py\", line 504, in dispatch_queue\n      await self.process_one()\n    File \"c:\\Users\\seeyo\\AppData\\Local\\Programs\\Python\\Python310\\lib\\site-packages\\ipykernel\\kernelbase.py\", line 493, in process_one\n      await dispatch(*args)\n    File \"c:\\Users\\seeyo\\AppData\\Local\\Programs\\Python\\Python310\\lib\\site-packages\\ipykernel\\kernelbase.py\", line 400, in dispatch_shell\n      await result\n    File \"c:\\Users\\seeyo\\AppData\\Local\\Programs\\Python\\Python310\\lib\\site-packages\\ipykernel\\kernelbase.py\", line 724, in execute_request\n      reply_content = await reply_content\n    File \"c:\\Users\\seeyo\\AppData\\Local\\Programs\\Python\\Python310\\lib\\site-packages\\ipykernel\\ipkernel.py\", line 390, in do_execute\n      res = shell.run_cell(code, store_history=store_history, silent=silent)\n    File \"c:\\Users\\seeyo\\AppData\\Local\\Programs\\Python\\Python310\\lib\\site-packages\\ipykernel\\zmqshell.py\", line 528, in run_cell\n      return super().run_cell(*args, **kwargs)\n    File \"c:\\Users\\seeyo\\AppData\\Local\\Programs\\Python\\Python310\\lib\\site-packages\\IPython\\core\\interactiveshell.py\", line 2863, in run_cell\n      result = self._run_cell(\n    File \"c:\\Users\\seeyo\\AppData\\Local\\Programs\\Python\\Python310\\lib\\site-packages\\IPython\\core\\interactiveshell.py\", line 2909, in _run_cell\n      return runner(coro)\n    File \"c:\\Users\\seeyo\\AppData\\Local\\Programs\\Python\\Python310\\lib\\site-packages\\IPython\\core\\async_helpers.py\", line 129, in _pseudo_sync_runner\n      coro.send(None)\n    File \"c:\\Users\\seeyo\\AppData\\Local\\Programs\\Python\\Python310\\lib\\site-packages\\IPython\\core\\interactiveshell.py\", line 3106, in run_cell_async\n      has_raised = await self.run_ast_nodes(code_ast.body, cell_name,\n    File \"c:\\Users\\seeyo\\AppData\\Local\\Programs\\Python\\Python310\\lib\\site-packages\\IPython\\core\\interactiveshell.py\", line 3309, in run_ast_nodes\n      if await self.run_code(code, result, async_=asy):\n    File \"c:\\Users\\seeyo\\AppData\\Local\\Programs\\Python\\Python310\\lib\\site-packages\\IPython\\core\\interactiveshell.py\", line 3369, in run_code\n      exec(code_obj, self.user_global_ns, self.user_ns)\n    File \"C:\\Users\\seeyo\\AppData\\Local\\Temp\\ipykernel_17136\\711578335.py\", line 27, in <cell line: 27>\n      history = model.fit(X_train,\n    File \"c:\\Users\\seeyo\\AppData\\Local\\Programs\\Python\\Python310\\lib\\site-packages\\keras\\utils\\traceback_utils.py\", line 65, in error_handler\n      return fn(*args, **kwargs)\n    File \"c:\\Users\\seeyo\\AppData\\Local\\Programs\\Python\\Python310\\lib\\site-packages\\keras\\engine\\training.py\", line 1564, in fit\n      tmp_logs = self.train_function(iterator)\n    File \"c:\\Users\\seeyo\\AppData\\Local\\Programs\\Python\\Python310\\lib\\site-packages\\keras\\engine\\training.py\", line 1160, in train_function\n      return step_function(self, iterator)\n    File \"c:\\Users\\seeyo\\AppData\\Local\\Programs\\Python\\Python310\\lib\\site-packages\\keras\\engine\\training.py\", line 1146, in step_function\n      outputs = model.distribute_strategy.run(run_step, args=(data,))\n    File \"c:\\Users\\seeyo\\AppData\\Local\\Programs\\Python\\Python310\\lib\\site-packages\\keras\\engine\\training.py\", line 1135, in run_step\n      outputs = model.train_step(data)\n    File \"c:\\Users\\seeyo\\AppData\\Local\\Programs\\Python\\Python310\\lib\\site-packages\\keras\\engine\\training.py\", line 998, in train_step\n      return self.compute_metrics(x, y, y_pred, sample_weight)\n    File \"c:\\Users\\seeyo\\AppData\\Local\\Programs\\Python\\Python310\\lib\\site-packages\\keras\\engine\\training.py\", line 1092, in compute_metrics\n      self.compiled_metrics.update_state(y, y_pred, sample_weight)\n    File \"c:\\Users\\seeyo\\AppData\\Local\\Programs\\Python\\Python310\\lib\\site-packages\\keras\\engine\\compile_utils.py\", line 605, in update_state\n      metric_obj.update_state(y_t, y_p, sample_weight=mask)\n    File \"c:\\Users\\seeyo\\AppData\\Local\\Programs\\Python\\Python310\\lib\\site-packages\\keras\\utils\\metrics_utils.py\", line 77, in decorated\n      update_op = update_state_fn(*args, **kwargs)\n    File \"c:\\Users\\seeyo\\AppData\\Local\\Programs\\Python\\Python310\\lib\\site-packages\\keras\\metrics\\base_metric.py\", line 143, in update_state_fn\n      return ag_update_state(*args, **kwargs)\n    File \"c:\\Users\\seeyo\\AppData\\Local\\Programs\\Python\\Python310\\lib\\site-packages\\keras\\metrics\\base_metric.py\", line 685, in update_state\n      y_true = tf.cast(y_true, self._dtype)\nNode: 'Cast_1'\nCast string to float is not supported\n\t [[{{node Cast_1}}]] [Op:__inference_train_function_1733]",
     "output_type": "error",
     "traceback": [
      "\u001b[1;31m---------------------------------------------------------------------------\u001b[0m",
      "\u001b[1;31mUnimplementedError\u001b[0m                        Traceback (most recent call last)",
      "\u001b[1;32mc:\\Users\\seeyo\\Documents\\pythonius\\speech-recognition\\spoken-digits-recognition\\src\\spoken-digits-recognition.ipynb Ячейка 25\u001b[0m in \u001b[0;36m<cell line: 27>\u001b[1;34m()\u001b[0m\n\u001b[0;32m     <a href='vscode-notebook-cell:/c%3A/Users/seeyo/Documents/pythonius/speech-recognition/spoken-digits-recognition/src/spoken-digits-recognition.ipynb#X33sZmlsZQ%3D%3D?line=23'>24</a>\u001b[0m es \u001b[39m=\u001b[39m EarlyStopping(monitor\u001b[39m=\u001b[39m\u001b[39m'\u001b[39m\u001b[39mval_loss\u001b[39m\u001b[39m'\u001b[39m, mode\u001b[39m=\u001b[39m\u001b[39m'\u001b[39m\u001b[39mmin\u001b[39m\u001b[39m'\u001b[39m, verbose\u001b[39m=\u001b[39m\u001b[39m1\u001b[39m)\n\u001b[0;32m     <a href='vscode-notebook-cell:/c%3A/Users/seeyo/Documents/pythonius/speech-recognition/spoken-digits-recognition/src/spoken-digits-recognition.ipynb#X33sZmlsZQ%3D%3D?line=25'>26</a>\u001b[0m \u001b[39m#Train with early stopping to avoid overfitting\u001b[39;00m\n\u001b[1;32m---> <a href='vscode-notebook-cell:/c%3A/Users/seeyo/Documents/pythonius/speech-recognition/spoken-digits-recognition/src/spoken-digits-recognition.ipynb#X33sZmlsZQ%3D%3D?line=26'>27</a>\u001b[0m history \u001b[39m=\u001b[39m model\u001b[39m.\u001b[39;49mfit(X_train,\n\u001b[0;32m     <a href='vscode-notebook-cell:/c%3A/Users/seeyo/Documents/pythonius/speech-recognition/spoken-digits-recognition/src/spoken-digits-recognition.ipynb#X33sZmlsZQ%3D%3D?line=27'>28</a>\u001b[0m                     y_train,\n\u001b[0;32m     <a href='vscode-notebook-cell:/c%3A/Users/seeyo/Documents/pythonius/speech-recognition/spoken-digits-recognition/src/spoken-digits-recognition.ipynb#X33sZmlsZQ%3D%3D?line=28'>29</a>\u001b[0m                     validation_data\u001b[39m=\u001b[39;49m(X_val, y_val),\n\u001b[0;32m     <a href='vscode-notebook-cell:/c%3A/Users/seeyo/Documents/pythonius/speech-recognition/spoken-digits-recognition/src/spoken-digits-recognition.ipynb#X33sZmlsZQ%3D%3D?line=29'>30</a>\u001b[0m                     epochs\u001b[39m=\u001b[39;49m\u001b[39m50\u001b[39;49m,\n\u001b[0;32m     <a href='vscode-notebook-cell:/c%3A/Users/seeyo/Documents/pythonius/speech-recognition/spoken-digits-recognition/src/spoken-digits-recognition.ipynb#X33sZmlsZQ%3D%3D?line=30'>31</a>\u001b[0m                     batch_size\u001b[39m=\u001b[39;49m\u001b[39m128\u001b[39;49m, \n\u001b[0;32m     <a href='vscode-notebook-cell:/c%3A/Users/seeyo/Documents/pythonius/speech-recognition/spoken-digits-recognition/src/spoken-digits-recognition.ipynb#X33sZmlsZQ%3D%3D?line=31'>32</a>\u001b[0m                     callbacks\u001b[39m=\u001b[39;49m[es])\n",
      "File \u001b[1;32mc:\\Users\\seeyo\\AppData\\Local\\Programs\\Python\\Python310\\lib\\site-packages\\keras\\utils\\traceback_utils.py:70\u001b[0m, in \u001b[0;36mfilter_traceback.<locals>.error_handler\u001b[1;34m(*args, **kwargs)\u001b[0m\n\u001b[0;32m     67\u001b[0m     filtered_tb \u001b[39m=\u001b[39m _process_traceback_frames(e\u001b[39m.\u001b[39m__traceback__)\n\u001b[0;32m     68\u001b[0m     \u001b[39m# To get the full stack trace, call:\u001b[39;00m\n\u001b[0;32m     69\u001b[0m     \u001b[39m# `tf.debugging.disable_traceback_filtering()`\u001b[39;00m\n\u001b[1;32m---> 70\u001b[0m     \u001b[39mraise\u001b[39;00m e\u001b[39m.\u001b[39mwith_traceback(filtered_tb) \u001b[39mfrom\u001b[39;00m \u001b[39mNone\u001b[39m\n\u001b[0;32m     71\u001b[0m \u001b[39mfinally\u001b[39;00m:\n\u001b[0;32m     72\u001b[0m     \u001b[39mdel\u001b[39;00m filtered_tb\n",
      "File \u001b[1;32mc:\\Users\\seeyo\\AppData\\Local\\Programs\\Python\\Python310\\lib\\site-packages\\tensorflow\\python\\eager\\execute.py:54\u001b[0m, in \u001b[0;36mquick_execute\u001b[1;34m(op_name, num_outputs, inputs, attrs, ctx, name)\u001b[0m\n\u001b[0;32m     52\u001b[0m \u001b[39mtry\u001b[39;00m:\n\u001b[0;32m     53\u001b[0m   ctx\u001b[39m.\u001b[39mensure_initialized()\n\u001b[1;32m---> 54\u001b[0m   tensors \u001b[39m=\u001b[39m pywrap_tfe\u001b[39m.\u001b[39mTFE_Py_Execute(ctx\u001b[39m.\u001b[39m_handle, device_name, op_name,\n\u001b[0;32m     55\u001b[0m                                       inputs, attrs, num_outputs)\n\u001b[0;32m     56\u001b[0m \u001b[39mexcept\u001b[39;00m core\u001b[39m.\u001b[39m_NotOkStatusException \u001b[39mas\u001b[39;00m e:\n\u001b[0;32m     57\u001b[0m   \u001b[39mif\u001b[39;00m name \u001b[39mis\u001b[39;00m \u001b[39mnot\u001b[39;00m \u001b[39mNone\u001b[39;00m:\n",
      "\u001b[1;31mUnimplementedError\u001b[0m: Graph execution error:\n\nDetected at node 'Cast_1' defined at (most recent call last):\n    File \"c:\\Users\\seeyo\\AppData\\Local\\Programs\\Python\\Python310\\lib\\runpy.py\", line 196, in _run_module_as_main\n      return _run_code(code, main_globals, None,\n    File \"c:\\Users\\seeyo\\AppData\\Local\\Programs\\Python\\Python310\\lib\\runpy.py\", line 86, in _run_code\n      exec(code, run_globals)\n    File \"c:\\Users\\seeyo\\AppData\\Local\\Programs\\Python\\Python310\\lib\\site-packages\\ipykernel_launcher.py\", line 17, in <module>\n      app.launch_new_instance()\n    File \"c:\\Users\\seeyo\\AppData\\Local\\Programs\\Python\\Python310\\lib\\site-packages\\traitlets\\config\\application.py\", line 846, in launch_instance\n      app.start()\n    File \"c:\\Users\\seeyo\\AppData\\Local\\Programs\\Python\\Python310\\lib\\site-packages\\ipykernel\\kernelapp.py\", line 712, in start\n      self.io_loop.start()\n    File \"c:\\Users\\seeyo\\AppData\\Local\\Programs\\Python\\Python310\\lib\\site-packages\\tornado\\platform\\asyncio.py\", line 199, in start\n      self.asyncio_loop.run_forever()\n    File \"c:\\Users\\seeyo\\AppData\\Local\\Programs\\Python\\Python310\\lib\\asyncio\\base_events.py\", line 600, in run_forever\n      self._run_once()\n    File \"c:\\Users\\seeyo\\AppData\\Local\\Programs\\Python\\Python310\\lib\\asyncio\\base_events.py\", line 1896, in _run_once\n      handle._run()\n    File \"c:\\Users\\seeyo\\AppData\\Local\\Programs\\Python\\Python310\\lib\\asyncio\\events.py\", line 80, in _run\n      self._context.run(self._callback, *self._args)\n    File \"c:\\Users\\seeyo\\AppData\\Local\\Programs\\Python\\Python310\\lib\\site-packages\\ipykernel\\kernelbase.py\", line 504, in dispatch_queue\n      await self.process_one()\n    File \"c:\\Users\\seeyo\\AppData\\Local\\Programs\\Python\\Python310\\lib\\site-packages\\ipykernel\\kernelbase.py\", line 493, in process_one\n      await dispatch(*args)\n    File \"c:\\Users\\seeyo\\AppData\\Local\\Programs\\Python\\Python310\\lib\\site-packages\\ipykernel\\kernelbase.py\", line 400, in dispatch_shell\n      await result\n    File \"c:\\Users\\seeyo\\AppData\\Local\\Programs\\Python\\Python310\\lib\\site-packages\\ipykernel\\kernelbase.py\", line 724, in execute_request\n      reply_content = await reply_content\n    File \"c:\\Users\\seeyo\\AppData\\Local\\Programs\\Python\\Python310\\lib\\site-packages\\ipykernel\\ipkernel.py\", line 390, in do_execute\n      res = shell.run_cell(code, store_history=store_history, silent=silent)\n    File \"c:\\Users\\seeyo\\AppData\\Local\\Programs\\Python\\Python310\\lib\\site-packages\\ipykernel\\zmqshell.py\", line 528, in run_cell\n      return super().run_cell(*args, **kwargs)\n    File \"c:\\Users\\seeyo\\AppData\\Local\\Programs\\Python\\Python310\\lib\\site-packages\\IPython\\core\\interactiveshell.py\", line 2863, in run_cell\n      result = self._run_cell(\n    File \"c:\\Users\\seeyo\\AppData\\Local\\Programs\\Python\\Python310\\lib\\site-packages\\IPython\\core\\interactiveshell.py\", line 2909, in _run_cell\n      return runner(coro)\n    File \"c:\\Users\\seeyo\\AppData\\Local\\Programs\\Python\\Python310\\lib\\site-packages\\IPython\\core\\async_helpers.py\", line 129, in _pseudo_sync_runner\n      coro.send(None)\n    File \"c:\\Users\\seeyo\\AppData\\Local\\Programs\\Python\\Python310\\lib\\site-packages\\IPython\\core\\interactiveshell.py\", line 3106, in run_cell_async\n      has_raised = await self.run_ast_nodes(code_ast.body, cell_name,\n    File \"c:\\Users\\seeyo\\AppData\\Local\\Programs\\Python\\Python310\\lib\\site-packages\\IPython\\core\\interactiveshell.py\", line 3309, in run_ast_nodes\n      if await self.run_code(code, result, async_=asy):\n    File \"c:\\Users\\seeyo\\AppData\\Local\\Programs\\Python\\Python310\\lib\\site-packages\\IPython\\core\\interactiveshell.py\", line 3369, in run_code\n      exec(code_obj, self.user_global_ns, self.user_ns)\n    File \"C:\\Users\\seeyo\\AppData\\Local\\Temp\\ipykernel_17136\\711578335.py\", line 27, in <cell line: 27>\n      history = model.fit(X_train,\n    File \"c:\\Users\\seeyo\\AppData\\Local\\Programs\\Python\\Python310\\lib\\site-packages\\keras\\utils\\traceback_utils.py\", line 65, in error_handler\n      return fn(*args, **kwargs)\n    File \"c:\\Users\\seeyo\\AppData\\Local\\Programs\\Python\\Python310\\lib\\site-packages\\keras\\engine\\training.py\", line 1564, in fit\n      tmp_logs = self.train_function(iterator)\n    File \"c:\\Users\\seeyo\\AppData\\Local\\Programs\\Python\\Python310\\lib\\site-packages\\keras\\engine\\training.py\", line 1160, in train_function\n      return step_function(self, iterator)\n    File \"c:\\Users\\seeyo\\AppData\\Local\\Programs\\Python\\Python310\\lib\\site-packages\\keras\\engine\\training.py\", line 1146, in step_function\n      outputs = model.distribute_strategy.run(run_step, args=(data,))\n    File \"c:\\Users\\seeyo\\AppData\\Local\\Programs\\Python\\Python310\\lib\\site-packages\\keras\\engine\\training.py\", line 1135, in run_step\n      outputs = model.train_step(data)\n    File \"c:\\Users\\seeyo\\AppData\\Local\\Programs\\Python\\Python310\\lib\\site-packages\\keras\\engine\\training.py\", line 998, in train_step\n      return self.compute_metrics(x, y, y_pred, sample_weight)\n    File \"c:\\Users\\seeyo\\AppData\\Local\\Programs\\Python\\Python310\\lib\\site-packages\\keras\\engine\\training.py\", line 1092, in compute_metrics\n      self.compiled_metrics.update_state(y, y_pred, sample_weight)\n    File \"c:\\Users\\seeyo\\AppData\\Local\\Programs\\Python\\Python310\\lib\\site-packages\\keras\\engine\\compile_utils.py\", line 605, in update_state\n      metric_obj.update_state(y_t, y_p, sample_weight=mask)\n    File \"c:\\Users\\seeyo\\AppData\\Local\\Programs\\Python\\Python310\\lib\\site-packages\\keras\\utils\\metrics_utils.py\", line 77, in decorated\n      update_op = update_state_fn(*args, **kwargs)\n    File \"c:\\Users\\seeyo\\AppData\\Local\\Programs\\Python\\Python310\\lib\\site-packages\\keras\\metrics\\base_metric.py\", line 143, in update_state_fn\n      return ag_update_state(*args, **kwargs)\n    File \"c:\\Users\\seeyo\\AppData\\Local\\Programs\\Python\\Python310\\lib\\site-packages\\keras\\metrics\\base_metric.py\", line 685, in update_state\n      y_true = tf.cast(y_true, self._dtype)\nNode: 'Cast_1'\nCast string to float is not supported\n\t [[{{node Cast_1}}]] [Op:__inference_train_function_1733]"
     ]
    }
   ],
   "source": [
    "#Creating a Model\n",
    "from keras import models\n",
    "from keras import layers\n",
    "import keras\n",
    "\n",
    "# model 1\n",
    "model = models.Sequential()\n",
    "model.add(layers.Dense(256, activation='relu', input_shape=(X_train.shape[1],)))\n",
    "model.add(layers.Dropout(0.5))\n",
    "model.add(layers.Dense(128, activation='relu'))\n",
    "model.add(layers.Dropout(0.5))\n",
    "model.add(layers.Dense(64, activation='relu'))\n",
    "model.add(layers.Dropout(0.5))\n",
    "model.add(layers.Dense(10, activation='softmax'))\n",
    "\n",
    "# Learning Process of a model\n",
    "model.compile(optimizer='adam',\n",
    "              loss='sparse_categorical_crossentropy',\n",
    "              metrics=['accuracy'])\n",
    "\n",
    "# simple early stopping\n",
    "from keras.callbacks import EarlyStopping\n",
    "\n",
    "es = EarlyStopping(monitor='val_loss', mode='min', verbose=1)\n",
    "\n",
    "#Train with early stopping to avoid overfitting\n",
    "history = model.fit(X_train,\n",
    "                    y_train,\n",
    "                    validation_data=(X_val, y_val),\n",
    "                    epochs=50,\n",
    "                    batch_size=128, \n",
    "                    callbacks=[es])"
   ]
  },
  {
   "cell_type": "code",
   "execution_count": 16,
   "metadata": {
    "colab": {
     "base_uri": "https://localhost:8080/",
     "height": 267
    },
    "colab_type": "code",
    "id": "z3nvtYKVa5HD",
    "outputId": "b858b37f-8e47-4cb4-a737-ef960246254b"
   },
   "outputs": [
    {
     "data": {
      "image/png": "[encoded data removed]",
      "text/plain": [
       "<Figure size 432x288 with 1 Axes>"
      ]
     },
     "metadata": {
      "needs_background": "light"
     },
     "output_type": "display_data"
    }
   ],
   "source": [
    "# plot training history\n",
    "from matplotlib import pyplot\n",
    "pyplot.plot(history.history['loss'], label='train')\n",
    "pyplot.plot(history.history['val_loss'], label='test')\n",
    "pyplot.legend()\n",
    "pyplot.show()"
   ]
  },
  {
   "cell_type": "markdown",
   "metadata": {},
   "source": [
    "### Present the model performance"
   ]
  },
  {
   "cell_type": "code",
   "execution_count": 17,
   "metadata": {
    "colab": {
     "base_uri": "https://localhost:8080/",
     "height": 86
    },
    "colab_type": "code",
    "id": "HSVxu84pRgZa",
    "outputId": "eb9242c9-7bff-4d54-a58c-60a915aad7d2",
    "scrolled": true
   },
   "outputs": [
    {
     "name": "stdout",
     "output_type": "stream",
     "text": [
      "\n",
      "# TEST DATA #\n",
      "\n",
      "30/30 [==============================] - 0s 33us/step\n",
      "accuracy: 90.00%\n",
      "\n",
      "# Generate predictions\n",
      "y=0, prediction=[0], match=True\n",
      "y=0, prediction=[3], match=False\n",
      "y=0, prediction=[0], match=True\n",
      "y=1, prediction=[1], match=True\n",
      "y=1, prediction=[4], match=False\n",
      "y=1, prediction=[1], match=True\n",
      "y=2, prediction=[2], match=True\n",
      "y=2, prediction=[2], match=True\n",
      "y=2, prediction=[3], match=False\n",
      "y=3, prediction=[3], match=True\n"
     ]
    }
   ],
   "source": [
    "print('\\n# TEST DATA #\\n')\n",
    "score = model.evaluate(X_test, y_test)\n",
    "print(\"%s: %.2f%%\" % (model.metrics_names[1], score[1]*100))\n",
    "\n",
    "# Prediction\n",
    "printPrediction(X_test[0:10], y_test[0:10])"
   ]
  },
  {
   "cell_type": "code",
   "execution_count": 18,
   "metadata": {
    "scrolled": true
   },
   "outputs": [
    {
     "name": "stdout",
     "output_type": "stream",
     "text": [
      "\n",
      "# OTHER SPEAKERS DATA #\n",
      "\n",
      "30/30 [==============================] - 0s 67us/step\n",
      "accuracy: 26.67%\n",
      "\n",
      "# Generate predictions\n",
      "y=0, prediction=[3], match=False\n",
      "y=0, prediction=[0], match=True\n",
      "y=0, prediction=[1], match=False\n",
      "y=1, prediction=[0], match=False\n",
      "y=1, prediction=[9], match=False\n",
      "y=1, prediction=[9], match=False\n",
      "y=2, prediction=[2], match=True\n",
      "y=2, prediction=[8], match=False\n",
      "y=2, prediction=[6], match=False\n",
      "y=3, prediction=[3], match=True\n"
     ]
    }
   ],
   "source": [
    "print('\\n# OTHER SPEAKERS DATA #\\n')\n",
    "score = model.evaluate(X_more_test, y_more_test)\n",
    "print(\"%s: %.2f%%\" % (model.metrics_names[1], score[1]*100))\n",
    "\n",
    "# Prediction\n",
    "printPrediction(X_more_test[0:10], y_more_test[0:10])\n"
   ]
  },
  {
   "cell_type": "code",
   "execution_count": 19,
   "metadata": {},
   "outputs": [
    {
     "name": "stdout",
     "output_type": "stream",
     "text": [
      "Classification Report for Test Data\n",
      "\n",
      "Confusion Matrix\n",
      "[[2 0 0 1 0 0 0 0 0 0]\n",
      " [0 2 0 0 1 0 0 0 0 0]\n",
      " [0 0 2 1 0 0 0 0 0 0]\n",
      " [0 0 0 3 0 0 0 0 0 0]\n",
      " [0 0 0 0 3 0 0 0 0 0]\n",
      " [0 0 0 0 0 3 0 0 0 0]\n",
      " [0 0 0 0 0 0 3 0 0 0]\n",
      " [0 0 0 0 0 0 0 3 0 0]\n",
      " [0 0 0 0 0 0 0 0 3 0]\n",
      " [0 0 0 0 0 0 0 0 0 3]]\n"
     ]
    },
    {
     "data": {
      "image/png": "[encoded data removed]",
      "text/plain": [
       "<Figure size 288x288 with 1 Axes>"
      ]
     },
     "metadata": {
      "needs_background": "light"
     },
     "output_type": "display_data"
    },
    {
     "name": "stdout",
     "output_type": "stream",
     "text": [
      "\n",
      "Classification Report\n",
      "              precision    recall  f1-score   support\n",
      "\n",
      "           0       1.00      0.67      0.80         3\n",
      "           1       1.00      0.67      0.80         3\n",
      "           2       1.00      0.67      0.80         3\n",
      "           3       0.60      1.00      0.75         3\n",
      "           4       0.75      1.00      0.86         3\n",
      "           5       1.00      1.00      1.00         3\n",
      "           6       1.00      1.00      1.00         3\n",
      "           7       1.00      1.00      1.00         3\n",
      "           8       1.00      1.00      1.00         3\n",
      "           9       1.00      1.00      1.00         3\n",
      "\n",
      "    accuracy                           0.90        30\n",
      "   macro avg       0.93      0.90      0.90        30\n",
      "weighted avg       0.94      0.90      0.90        30\n",
      "\n",
      "Classification Report for Other Speakers\n",
      "\n",
      "Confusion Matrix\n",
      "[[1 1 0 1 0 0 0 0 0 0]\n",
      " [1 0 0 0 0 0 0 0 0 2]\n",
      " [0 0 1 0 0 0 1 0 1 0]\n",
      " [0 0 0 1 0 0 1 0 1 0]\n",
      " [0 1 0 0 0 1 1 0 0 0]\n",
      " [0 0 1 0 0 1 1 0 0 0]\n",
      " [0 0 0 0 0 0 2 0 1 0]\n",
      " [1 0 1 0 0 0 0 0 0 1]\n",
      " [0 0 0 1 0 0 1 0 1 0]\n",
      " [2 0 0 0 0 0 0 0 0 1]]\n"
     ]
    },
    {
     "data": {
      "image/png": "[encoded data removed]",
      "text/plain": [
       "<Figure size 288x288 with 1 Axes>"
      ]
     },
     "metadata": {
      "needs_background": "light"
     },
     "output_type": "display_data"
    },
    {
     "name": "stdout",
     "output_type": "stream",
     "text": [
      "\n",
      "Classification Report\n",
      "              precision    recall  f1-score   support\n",
      "\n",
      "           0       0.20      0.33      0.25         3\n",
      "           1       0.00      0.00      0.00         3\n",
      "           2       0.33      0.33      0.33         3\n",
      "           3       0.33      0.33      0.33         3\n",
      "           4       0.00      0.00      0.00         3\n",
      "           5       0.50      0.33      0.40         3\n",
      "           6       0.29      0.67      0.40         3\n",
      "           7       0.00      0.00      0.00         3\n",
      "           8       0.25      0.33      0.29         3\n",
      "           9       0.25      0.33      0.29         3\n",
      "\n",
      "    accuracy                           0.27        30\n",
      "   macro avg       0.22      0.27      0.23        30\n",
      "weighted avg       0.22      0.27      0.23        30\n",
      "\n"
     ]
    },
    {
     "name": "stderr",
     "output_type": "stream",
     "text": [
      "c:\\users\\erodvas\\env\\lib\\site-packages\\sklearn\\metrics\\classification.py:1437: UndefinedMetricWarning: Precision and F-score are ill-defined and being set to 0.0 in labels with no predicted samples.\n",
      "  'precision', 'predicted', average, warn_for)\n"
     ]
    }
   ],
   "source": [
    "print(\"Classification Report for Test Data\\n\")\n",
    "report(X_test, y_test)\n",
    "\n",
    "print(\"Classification Report for Other Speakers\\n\")\n",
    "report(X_more_test, y_more_test)\n"
   ]
  },
  {
   "cell_type": "code",
   "execution_count": null,
   "metadata": {},
   "outputs": [],
   "source": []
  }
 ],
 "metadata": {
  "accelerator": "GPU",
  "colab": {
   "name": "sound-regnize-Keras.ipynb",
   "provenance": []
  },
  "kernelspec": {
   "display_name": "Python 3.10.4 64-bit",
   "language": "python",
   "name": "python3"
  },
  "language_info": {
   "codemirror_mode": {
    "name": "ipython",
    "version": 3
   },
   "file_extension": ".py",
   "mimetype": "text/x-python",
   "name": "python",
   "nbconvert_exporter": "python",
   "pygments_lexer": "ipython3",
   "version": "3.10.4"
  },
  "vscode": {
   "interpreter": {
    "hash": "22c61a617fe55e4d9168a5346b2892267601016f55eef7b980b10e049206c964"
   }
  }
 },
 "nbformat": 4,
 "nbformat_minor": 1
}
