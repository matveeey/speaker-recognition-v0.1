{
 "cells": [
  {
   "cell_type": "markdown",
   "metadata": {},
   "source": [
    "# Speaker Recognition\n",
    "\n",
    "Term project for Machine Learning UoT course\n",
    "\n",
    "The objective of this Notebook is to predict the speaker of an English digit using a Keras model.\n",
    "\n",
    "This Notebook has three main sections.\n",
    "1. Extract the features of the WAV files, save them into CSV files and store them into Pandas\n",
    "2. The model will be trained based on the data set created by https://github.com/Jakobovski/free-spoken-digit-dataset\n",
    "3. The model will be re-trained based on the previous data plus the recordings made by Ankor (Indian accent), Caroline (Canadian female child accent) and Rodolfo (Brazilian accent)"
   ]
  },
  {
   "cell_type": "markdown",
   "metadata": {},
   "source": [
    "## Section 1\n",
    "\n",
    "The output of this section is the CSV files with the data to be handle by the model\n",
    "\n",
    "```\n",
    "trainData     : ../data/recordings/train \n",
    "testData      : ../data/recordings/test\n",
    "```\n"
   ]
  },
  {
   "cell_type": "code",
   "execution_count": 1,
   "metadata": {},
   "outputs": [],
   "source": [
    "# If true, the WAV files will be read and their features will be saved in the CSV files\n",
    "# As this is the most time consuming task, only enable it if you don't have the CSV files yet\n",
    "CREATE_CSV_FILES = False"
   ]
  },
  {
   "cell_type": "code",
   "execution_count": 2,
   "metadata": {},
   "outputs": [],
   "source": [
    "# Defines the names of the CSV files\n",
    "TRAIN_CSV_FILE = \"../data/csv/train.csv\"\n",
    "TEST_CSV_FILE = \"../data/csv/test.csv\"\n"
   ]
  },
  {
   "cell_type": "code",
   "execution_count": 3,
   "metadata": {
    "colab": {
     "base_uri": "https://localhost:8080/",
     "height": 71
    },
    "colab_type": "code",
    "id": "FIUhv3GI8FOF",
    "outputId": "5adb2545-0d54-4494-c1bb-6fbb9f69ed45"
   },
   "outputs": [
    {
     "name": "stdout",
     "output_type": "stream",
     "text": [
      "CSV files creation is skipped\n"
     ]
    }
   ],
   "source": [
    "import matplotlib.pyplot as plt\n",
    "import numpy as np\n",
    "from matplotlib import cm\n",
    "import librosa\n",
    "import csv\n",
    "import os\n",
    "\n",
    "def extractWavFeatures(soundFilesFolder, csvFileName):\n",
    "    print(\"The features of the files in the folder \"+soundFilesFolder+\" will be saved to \"+csvFileName)\n",
    "    header = 'filename chroma_stft rmse spectral_centroid spectral_bandwidth rolloff zero_crossing_rate'\n",
    "    for i in range(1, 21):\n",
    "        header += f' mfcc{i}'\n",
    "    header += ' label'\n",
    "    header = header.split()\n",
    "    print('CSV Header: ', header)\n",
    "    file = open(csvFileName, 'w', newline='')\n",
    "    #with file:\n",
    "    writer = csv.writer(file)\n",
    "    writer.writerow(header)\n",
    "    genres = '1 2 3 4 5 6 7 8 9 0'.split()\n",
    "    for filename in os.listdir(soundFilesFolder):\n",
    "        number = f'{soundFilesFolder}/{filename}'\n",
    "        y, sr = librosa.load(number, mono=True, duration=30)\n",
    "        # remove leading and trailing silence\n",
    "        y, index = librosa.effects.trim(y)\n",
    "        chroma_stft = librosa.feature.chroma_stft(y=y, sr=sr)\n",
    "        rmse = librosa.feature.rms(y=y)\n",
    "        spec_cent = librosa.feature.spectral_centroid(y=y, sr=sr)\n",
    "        spec_bw = librosa.feature.spectral_bandwidth(y=y, sr=sr)\n",
    "        rolloff = librosa.feature.spectral_rolloff(y=y, sr=sr)\n",
    "        zcr = librosa.feature.zero_crossing_rate(y)\n",
    "        mfcc = librosa.feature.mfcc(y=y, sr=sr)\n",
    "        to_append = f'{filename} {np.mean(chroma_stft)} {np.mean(rmse)} {np.mean(spec_cent)} {np.mean(spec_bw)} {np.mean(rolloff)} {np.mean(zcr)}'\n",
    "        for e in mfcc:\n",
    "            to_append += f' {np.mean(e)}'\n",
    "        writer.writerow(to_append.split())\n",
    "    file.close()\n",
    "    print(\"End of extractWavFeatures\")\n",
    "\n",
    "if (CREATE_CSV_FILES == True):\n",
    "    extractWavFeatures(\"../data/recordings/trainData\", TRAIN_CSV_FILE)\n",
    "    extractWavFeatures(\"../data/recordings/testData\", TEST_CSV_FILE)\n",
    "    print(\"CSV files are created\")\n",
    "else:\n",
    "    print(\"CSV files creation is skipped\")"
   ]
  },
  {
   "cell_type": "code",
   "execution_count": 4,
   "metadata": {
    "colab": {
     "base_uri": "https://localhost:8080/",
     "height": 223
    },
    "colab_type": "code",
    "id": "_TZXrWYiNqCj",
    "outputId": "7d1d926e-64fa-4855-df66-207a97778915"
   },
   "outputs": [
    {
     "name": "stdout",
     "output_type": "stream",
     "text": [
      "../data/csv/train.csv will be preprocessed\n",
      "Preprocessing is finished\n",
      "       rmse  spectral_centroid  spectral_bandwidth      rolloff  \\\n",
      "0  0.025131        2263.257195         2423.742932  5037.060547   \n",
      "1  0.017434        1964.576479         2164.069455  4232.765174   \n",
      "2  0.032202        1558.989634         1983.256586  3471.613770   \n",
      "3  0.019922        2126.700450         2270.229736  4376.725107   \n",
      "4  0.029243        1576.336568         1936.231997  3177.870117   \n",
      "\n",
      "   zero_crossing_rate       mfcc1       mfcc2      mfcc3      mfcc4  \\\n",
      "0            0.114467 -416.317078   93.509689  20.108961  33.628685   \n",
      "1            0.088604 -444.202728  104.891663   6.255211  39.115692   \n",
      "2            0.065241 -413.475189  112.861092  22.997181  35.574394   \n",
      "3            0.110794 -438.835358   95.439583  17.603657  37.666286   \n",
      "4            0.066458 -397.284363  109.741707  16.604698  43.763508   \n",
      "\n",
      "       mfcc5  ...    mfcc12     mfcc13     mfcc14    mfcc15     mfcc16  \\\n",
      "0   4.782962  ...  1.397505 -12.899868  -8.956563 -0.710121  -6.882756   \n",
      "1  10.545595  ...  2.888384 -15.642987 -13.738211 -2.906362 -10.828699   \n",
      "2   7.282945  ... -3.133941 -10.205274 -15.366270 -1.957181  -5.440994   \n",
      "3   9.626062  ...  2.533757  -8.088105 -10.803130 -1.590997  -7.822635   \n",
      "4  10.480644  ... -3.965786 -21.020741 -12.847131 -7.123433  -8.734676   \n",
      "\n",
      "     mfcc17     mfcc18    mfcc19    mfcc20  number  \n",
      "0 -1.573182  -3.581472 -5.625626  1.464069       1  \n",
      "1  2.248117  -7.669968 -6.090080 -0.770093       1  \n",
      "2 -2.761529 -12.085954 -3.433341 -0.794300       1  \n",
      "3 -1.712487  -3.166165 -7.187031  2.148904       1  \n",
      "4 -3.975639  -8.973385 -5.855656 -2.390283       1  \n",
      "\n",
      "[5 rows x 26 columns]\n",
      "../data/csv/test.csv will be preprocessed\n",
      "Preprocessing is finished\n",
      "       rmse  spectral_centroid  spectral_bandwidth      rolloff  \\\n",
      "0  0.026171        1976.092934         2256.741607  4188.037109   \n",
      "1  0.006209        1429.026778         2188.279135  3361.333008   \n",
      "2  0.030083        1447.607772         1943.238713  3217.060547   \n",
      "\n",
      "   zero_crossing_rate       mfcc1       mfcc2      mfcc3      mfcc4     mfcc5  \\\n",
      "0            0.092022 -406.176025   99.329926  13.063265  31.460566  7.021623   \n",
      "1            0.022132 -627.408875   98.451027  26.374922  21.451702  4.870950   \n",
      "2            0.054325 -418.588013  131.875839  24.485344  29.009775  8.678635   \n",
      "\n",
      "   ...    mfcc12     mfcc13     mfcc14    mfcc15    mfcc16     mfcc17  \\\n",
      "0  ... -2.228748 -16.088596 -12.063771 -2.754982 -7.659901  -4.323417   \n",
      "1  ...  0.097818  -2.724034   1.066525 -5.484253  6.603865  -8.808881   \n",
      "2  ...  1.716907  -4.746157  -2.479197 -8.693762  6.749485 -10.158951   \n",
      "\n",
      "     mfcc18    mfcc19    mfcc20  number  \n",
      "0 -6.064962 -6.094229  0.543286       1  \n",
      "1  2.380199 -5.429867 -0.317546       0  \n",
      "2 -1.765987 -5.782708  3.496445       2  \n",
      "\n",
      "[3 rows x 26 columns]\n"
     ]
    }
   ],
   "source": [
    "#Reading a dataset and convert file name to corresbonding umnber\n",
    "\n",
    "import pandas as pd\n",
    "import csv\n",
    "from sklearn import preprocessing\n",
    "\n",
    "def preProcessData(csvFileName):\n",
    "    print(csvFileName+ \" will be preprocessed\")\n",
    "    data = pd.read_csv(csvFileName) # shape: 1470(0) x 28(1)\n",
    "    # we have six speakers: \n",
    "    # 0: Kazanin\n",
    "    # 1: Bednarsky \n",
    "    # 2: Theo\n",
    "    # 3: Ankur\n",
    "    # 4: Caroline\n",
    "    # 5: Rodolfo\n",
    "    filenameArray = data['filename'] \n",
    "    speakerArray = []\n",
    "    #print(filenameArray)\n",
    "    for i in range(len(filenameArray)):\n",
    "        speaker = filenameArray[i][0]\n",
    "        #print(speaker)\n",
    "        if speaker == \"k\":\n",
    "            speaker = 0\n",
    "        elif speaker == \"b\":\n",
    "            speaker = 1\n",
    "        elif speaker == \"z\":\n",
    "            speaker = 2\n",
    "        elif speaker == \"a\":\n",
    "            speaker = 3\n",
    "        elif speaker == \"c\":\n",
    "            speaker = 4\n",
    "        elif speaker == \"r\":\n",
    "            speaker = 5\n",
    "        else: \n",
    "            speaker = 6\n",
    "        #print(speaker)\n",
    "        speakerArray.append(speaker)\n",
    "    \n",
    "    data['number'] = speakerArray\n",
    "    \n",
    "    #Dropping unnecessary columns\n",
    "    data = data.drop(['filename'],axis=1)\n",
    "    data = data.drop(['label'],axis=1)\n",
    "    data = data.drop(['chroma_stft'],axis=1)\n",
    "    data.shape\n",
    "\n",
    "    print(\"Preprocessing is finished\")\n",
    "    print(data.head())\n",
    "    return data\n",
    "\n",
    "trainData = preProcessData(TRAIN_CSV_FILE)\n",
    "testData = preProcessData(TEST_CSV_FILE)\n",
    "\n"
   ]
  },
  {
   "cell_type": "markdown",
   "metadata": {},
   "source": [
    "## Section 2\n",
    "\n",
    "There are 50 recordings for each digit for each speaker: Jackson, Nicolas and Theo (total 1500 recordings)\n",
    "\n",
    "Training data has 49 recordings for each digit for each speaker: 1470 recordings total.\n",
    "Test data has 1 recordings for each digit for each speaker: 30 recordings total.\n",
    "\n",
    "The data used here comes from the recordings stored in:\n",
    "* ../data/recordings/train\n",
    "* ../data/recordings/test\n",
    "\n",
    "The model will be trained to predict the speker of a digit."
   ]
  },
  {
   "cell_type": "code",
   "execution_count": 5,
   "metadata": {
    "colab": {},
    "colab_type": "code",
    "id": "UEy6oG8RQmnN"
   },
   "outputs": [
    {
     "name": "stdout",
     "output_type": "stream",
     "text": [
      "Y from training data: (137,)\n",
      "Y from validation data: (59,)\n",
      "Y from test data: (3,)\n",
      "(137,)\n"
     ]
    }
   ],
   "source": [
    "# Splitting the dataset into training, validation and testing dataset\n",
    "from sklearn.model_selection import train_test_split\n",
    "X = np.array(trainData.iloc[:, :-1], dtype = float)\n",
    "y = trainData.iloc[:, -1]\n",
    "X_train, X_val, y_train, y_val = train_test_split(X, y, test_size=0.3, random_state=42)\n",
    "\n",
    "X_test = np.array(testData.iloc[:, :-1], dtype = float)\n",
    "y_test = testData.iloc[:, -1]\n",
    "\n",
    "print(\"Y from training data:\", y_train.shape)\n",
    "print(\"Y from validation data:\", y_val.shape)\n",
    "print(\"Y from test data:\", y_test.shape)\n",
    "\n",
    "print(y_train.shape)"
   ]
  },
  {
   "cell_type": "code",
   "execution_count": 6,
   "metadata": {
    "colab": {
     "base_uri": "https://localhost:8080/",
     "height": 34
    },
    "colab_type": "code",
    "id": "S1o-OccqP5Ax",
    "outputId": "c93e0d6f-f5c0-4208-b0e5-7ecba885cddc"
   },
   "outputs": [],
   "source": [
    "#Normalizing the dataset\n",
    "from sklearn.preprocessing import StandardScaler\n",
    "import numpy as np\n",
    "scaler = StandardScaler()\n",
    "X_train = scaler.fit_transform( X_train )\n",
    "X_val = scaler.transform( X_val )\n",
    "X_test = scaler.transform( X_test )"
   ]
  },
  {
   "cell_type": "code",
   "execution_count": 7,
   "metadata": {
    "colab": {
     "base_uri": "https://localhost:8080/",
     "height": 203
    },
    "colab_type": "code",
    "id": "Q06tYXcdQZFp",
    "outputId": "8ab73b51-7592-450c-b152-8746e2f11b87"
   },
   "outputs": [
    {
     "name": "stdout",
     "output_type": "stream",
     "text": [
      "139    6\n",
      "113    6\n",
      "16     1\n",
      "75     0\n",
      "154    2\n",
      "185    2\n",
      "69     0\n",
      "55     0\n",
      "18     1\n",
      "169    2\n",
      "156    2\n",
      "15     1\n",
      "161    2\n",
      "60     0\n",
      "115    6\n",
      "114    6\n",
      "145    6\n",
      "9      1\n",
      "73     0\n",
      "187    2\n",
      "112    6\n",
      "93     0\n",
      "138    6\n",
      "45     1\n",
      "85     0\n",
      "67     0\n",
      "128    6\n",
      "173    2\n",
      "30     1\n",
      "68     0\n",
      "82     0\n",
      "119    6\n",
      "183    2\n",
      "24     1\n",
      "137    6\n",
      "95     0\n",
      "56     0\n",
      "19     1\n",
      "122    6\n",
      "76     0\n",
      "5      1\n",
      "65     0\n",
      "136    6\n",
      "97     0\n",
      "168    2\n",
      "123    6\n",
      "165    2\n",
      "12     1\n",
      "35     1\n",
      "162    2\n",
      "42     1\n",
      "66     0\n",
      "135    6\n",
      "78     0\n",
      "118    6\n",
      "124    6\n",
      "29     1\n",
      "132    6\n",
      "170    2\n",
      "Name: number, dtype: int64\n",
      "Epoch 1/50\n",
      "13/13 [==============================] - 3s 77ms/step - loss: 2.1399 - accuracy: 0.2190 - val_loss: 1.5317 - val_accuracy: 0.7966\n",
      "Epoch 2/50\n",
      "13/13 [==============================] - 0s 15ms/step - loss: 1.4777 - accuracy: 0.4818 - val_loss: 0.9500 - val_accuracy: 0.8814\n",
      "Epoch 3/50\n",
      "13/13 [==============================] - 0s 13ms/step - loss: 0.9774 - accuracy: 0.7372 - val_loss: 0.5117 - val_accuracy: 0.9661\n",
      "Epoch 4/50\n",
      "13/13 [==============================] - 0s 14ms/step - loss: 0.7180 - accuracy: 0.7737 - val_loss: 0.2618 - val_accuracy: 0.9831\n",
      "Epoch 5/50\n",
      "13/13 [==============================] - 0s 13ms/step - loss: 0.4891 - accuracy: 0.8832 - val_loss: 0.1302 - val_accuracy: 1.0000\n",
      "Epoch 6/50\n",
      "13/13 [==============================] - 0s 14ms/step - loss: 0.3634 - accuracy: 0.8759 - val_loss: 0.0718 - val_accuracy: 1.0000\n",
      "Epoch 7/50\n",
      "13/13 [==============================] - 0s 12ms/step - loss: 0.2370 - accuracy: 0.9343 - val_loss: 0.0403 - val_accuracy: 1.0000\n",
      "Epoch 8/50\n",
      "13/13 [==============================] - 0s 13ms/step - loss: 0.1529 - accuracy: 0.9562 - val_loss: 0.0227 - val_accuracy: 1.0000\n",
      "Epoch 9/50\n",
      "13/13 [==============================] - 0s 14ms/step - loss: 0.1052 - accuracy: 0.9708 - val_loss: 0.0130 - val_accuracy: 1.0000\n",
      "Epoch 10/50\n",
      "13/13 [==============================] - 0s 14ms/step - loss: 0.0697 - accuracy: 0.9927 - val_loss: 0.0075 - val_accuracy: 1.0000\n",
      "Epoch 11/50\n",
      "13/13 [==============================] - 0s 14ms/step - loss: 0.1049 - accuracy: 0.9635 - val_loss: 0.0040 - val_accuracy: 1.0000\n",
      "Epoch 12/50\n",
      "13/13 [==============================] - 0s 15ms/step - loss: 0.0535 - accuracy: 0.9927 - val_loss: 0.0034 - val_accuracy: 1.0000\n",
      "Epoch 13/50\n",
      "13/13 [==============================] - 0s 14ms/step - loss: 0.0435 - accuracy: 0.9927 - val_loss: 0.0019 - val_accuracy: 1.0000\n",
      "Epoch 14/50\n",
      "13/13 [==============================] - 0s 14ms/step - loss: 0.0686 - accuracy: 0.9854 - val_loss: 0.0020 - val_accuracy: 1.0000\n",
      "Epoch 15/50\n",
      "13/13 [==============================] - 0s 13ms/step - loss: 0.0704 - accuracy: 0.9854 - val_loss: 8.3890e-04 - val_accuracy: 1.0000\n",
      "Epoch 16/50\n",
      "13/13 [==============================] - 0s 13ms/step - loss: 0.0589 - accuracy: 0.9854 - val_loss: 5.0563e-04 - val_accuracy: 1.0000\n",
      "Epoch 17/50\n",
      "13/13 [==============================] - 0s 14ms/step - loss: 0.0192 - accuracy: 0.9927 - val_loss: 3.3134e-04 - val_accuracy: 1.0000\n",
      "Epoch 18/50\n",
      "13/13 [==============================] - 0s 14ms/step - loss: 0.0482 - accuracy: 0.9854 - val_loss: 2.8571e-04 - val_accuracy: 1.0000\n",
      "Epoch 19/50\n",
      "13/13 [==============================] - 0s 14ms/step - loss: 0.0284 - accuracy: 0.9927 - val_loss: 2.6146e-04 - val_accuracy: 1.0000\n",
      "Epoch 20/50\n",
      "13/13 [==============================] - 0s 13ms/step - loss: 0.0292 - accuracy: 0.9927 - val_loss: 2.3045e-04 - val_accuracy: 1.0000\n",
      "Epoch 21/50\n",
      "13/13 [==============================] - 0s 13ms/step - loss: 0.0228 - accuracy: 0.9854 - val_loss: 1.2898e-04 - val_accuracy: 1.0000\n",
      "Epoch 22/50\n",
      "13/13 [==============================] - 0s 14ms/step - loss: 0.0345 - accuracy: 0.9854 - val_loss: 1.1940e-04 - val_accuracy: 1.0000\n",
      "Epoch 23/50\n",
      "13/13 [==============================] - 0s 13ms/step - loss: 0.0227 - accuracy: 0.9927 - val_loss: 1.2823e-04 - val_accuracy: 1.0000\n",
      "Epoch 24/50\n",
      "13/13 [==============================] - 0s 13ms/step - loss: 0.0146 - accuracy: 0.9927 - val_loss: 1.6962e-04 - val_accuracy: 1.0000\n",
      "Epoch 25/50\n",
      "13/13 [==============================] - 0s 13ms/step - loss: 0.0086 - accuracy: 1.0000 - val_loss: 1.6447e-04 - val_accuracy: 1.0000\n",
      "Epoch 26/50\n",
      "13/13 [==============================] - 0s 13ms/step - loss: 0.0047 - accuracy: 1.0000 - val_loss: 1.1382e-04 - val_accuracy: 1.0000\n",
      "Epoch 27/50\n",
      "13/13 [==============================] - 0s 14ms/step - loss: 0.0246 - accuracy: 0.9927 - val_loss: 9.2455e-05 - val_accuracy: 1.0000\n",
      "Epoch 28/50\n",
      "13/13 [==============================] - 0s 15ms/step - loss: 0.0121 - accuracy: 1.0000 - val_loss: 8.4374e-05 - val_accuracy: 1.0000\n",
      "Epoch 29/50\n",
      "13/13 [==============================] - 0s 14ms/step - loss: 0.0241 - accuracy: 0.9854 - val_loss: 5.4692e-05 - val_accuracy: 1.0000\n",
      "Epoch 30/50\n",
      "13/13 [==============================] - 0s 13ms/step - loss: 0.0123 - accuracy: 1.0000 - val_loss: 6.4770e-05 - val_accuracy: 1.0000\n",
      "Epoch 31/50\n",
      "13/13 [==============================] - 0s 12ms/step - loss: 0.0116 - accuracy: 1.0000 - val_loss: 5.6801e-05 - val_accuracy: 1.0000\n",
      "Epoch 32/50\n",
      "13/13 [==============================] - 0s 12ms/step - loss: 0.0085 - accuracy: 1.0000 - val_loss: 3.9489e-05 - val_accuracy: 1.0000\n",
      "Epoch 33/50\n",
      "13/13 [==============================] - 0s 13ms/step - loss: 0.0074 - accuracy: 1.0000 - val_loss: 3.2872e-05 - val_accuracy: 1.0000\n",
      "Epoch 34/50\n",
      "13/13 [==============================] - 0s 13ms/step - loss: 0.0025 - accuracy: 1.0000 - val_loss: 2.7177e-05 - val_accuracy: 1.0000\n",
      "Epoch 35/50\n",
      "13/13 [==============================] - 0s 14ms/step - loss: 0.0057 - accuracy: 1.0000 - val_loss: 2.4117e-05 - val_accuracy: 1.0000\n",
      "Epoch 36/50\n",
      "13/13 [==============================] - 0s 13ms/step - loss: 0.0045 - accuracy: 1.0000 - val_loss: 1.9117e-05 - val_accuracy: 1.0000\n",
      "Epoch 37/50\n",
      "13/13 [==============================] - 0s 13ms/step - loss: 0.0023 - accuracy: 1.0000 - val_loss: 1.6135e-05 - val_accuracy: 1.0000\n",
      "Epoch 38/50\n",
      "13/13 [==============================] - 0s 14ms/step - loss: 0.0082 - accuracy: 1.0000 - val_loss: 1.2433e-05 - val_accuracy: 1.0000\n",
      "Epoch 39/50\n",
      "13/13 [==============================] - 0s 13ms/step - loss: 0.0107 - accuracy: 1.0000 - val_loss: 1.3602e-05 - val_accuracy: 1.0000\n",
      "Epoch 40/50\n",
      "13/13 [==============================] - 0s 13ms/step - loss: 0.0037 - accuracy: 1.0000 - val_loss: 1.4657e-05 - val_accuracy: 1.0000\n",
      "Epoch 41/50\n",
      "13/13 [==============================] - 0s 14ms/step - loss: 0.0074 - accuracy: 0.9927 - val_loss: 1.3566e-05 - val_accuracy: 1.0000\n",
      "Epoch 42/50\n",
      "13/13 [==============================] - 0s 14ms/step - loss: 0.0148 - accuracy: 0.9927 - val_loss: 4.7258e-06 - val_accuracy: 1.0000\n",
      "Epoch 43/50\n",
      "13/13 [==============================] - 0s 15ms/step - loss: 0.0178 - accuracy: 0.9927 - val_loss: 4.2591e-06 - val_accuracy: 1.0000\n",
      "Epoch 44/50\n",
      "13/13 [==============================] - 0s 16ms/step - loss: 0.0133 - accuracy: 0.9927 - val_loss: 4.1339e-06 - val_accuracy: 1.0000\n",
      "Epoch 45/50\n",
      "13/13 [==============================] - 0s 14ms/step - loss: 0.0104 - accuracy: 0.9927 - val_loss: 3.8914e-06 - val_accuracy: 1.0000\n",
      "Epoch 46/50\n",
      "13/13 [==============================] - 0s 15ms/step - loss: 0.0102 - accuracy: 0.9927 - val_loss: 2.9438e-06 - val_accuracy: 1.0000\n",
      "Epoch 47/50\n",
      "13/13 [==============================] - 0s 14ms/step - loss: 0.0219 - accuracy: 0.9927 - val_loss: 2.3922e-06 - val_accuracy: 1.0000\n",
      "Epoch 48/50\n",
      "13/13 [==============================] - 0s 13ms/step - loss: 0.0033 - accuracy: 1.0000 - val_loss: 2.1680e-06 - val_accuracy: 1.0000\n",
      "Epoch 49/50\n",
      "13/13 [==============================] - 0s 14ms/step - loss: 0.0124 - accuracy: 0.9927 - val_loss: 1.7012e-06 - val_accuracy: 1.0000\n",
      "Epoch 50/50\n",
      "13/13 [==============================] - 0s 14ms/step - loss: 0.0043 - accuracy: 1.0000 - val_loss: 1.3012e-06 - val_accuracy: 1.0000\n"
     ]
    }
   ],
   "source": [
    "#Creating a Model\n",
    "from keras import models\n",
    "from keras import layers\n",
    "import keras\n",
    "\n",
    "# model 1\n",
    "model = models.Sequential()\n",
    "model.add(layers.Dense(256, activation='relu', input_shape=(X_train.shape[1],)))\n",
    "model.add(layers.Dropout(0.5))\n",
    "model.add(layers.Dense(128, activation='relu'))\n",
    "model.add(layers.Dropout(0.5))\n",
    "model.add(layers.Dense(64, activation='relu'))\n",
    "model.add(layers.Dropout(0.5))\n",
    "model.add(layers.Dense(10, activation='softmax'))\n",
    "\n",
    "# Learning Process of a model\n",
    "model.compile(optimizer='adam',\n",
    "              loss='sparse_categorical_crossentropy',\n",
    "              metrics=['accuracy'])\n",
    "\n",
    "# simple early stopping\n",
    "from keras.callbacks import EarlyStopping\n",
    "\n",
    "es = EarlyStopping(monitor='val_loss', mode='min', verbose=1)\n",
    "\n",
    "#X_train = np.delete(X_train, len(X_train) - 1, axis = 1)\n",
    "#print(X_train)\n",
    "#model.summary()\n",
    "print(y_val)\n",
    "#Train with early stopping to avoid overfitting\n",
    "history = model.fit(X_train,\n",
    "                    y_train,\n",
    "                    validation_data=(X_val, y_val),\n",
    "                    epochs=50,\n",
    "                    batch_size=11)"
   ]
  },
  {
   "cell_type": "code",
   "execution_count": 8,
   "metadata": {
    "colab": {
     "base_uri": "https://localhost:8080/",
     "height": 267
    },
    "colab_type": "code",
    "id": "z3nvtYKVa5HD",
    "outputId": "b858b37f-8e47-4cb4-a737-ef960246254b"
   },
   "outputs": [
    {
     "data": {
      "image/png": "[encoded data removed]",
      "text/plain": [
       "<Figure size 432x288 with 1 Axes>"
      ]
     },
     "metadata": {
      "needs_background": "light"
     },
     "output_type": "display_data"
    }
   ],
   "source": [
    "# plot training history\n",
    "from matplotlib import pyplot\n",
    "pyplot.plot(history.history['loss'], label='train')\n",
    "pyplot.plot(history.history['val_loss'], label='test')\n",
    "pyplot.legend()\n",
    "pyplot.show()"
   ]
  },
  {
   "cell_type": "markdown",
   "metadata": {},
   "source": [
    "### Auxiliary functions to show the results\n"
   ]
  },
  {
   "cell_type": "code",
   "execution_count": 9,
   "metadata": {},
   "outputs": [],
   "source": [
    "def getSpeaker(speaker):\n",
    "    #speaker = str(speaker)\n",
    "    if speaker == 0:\n",
    "        return \"Kazanin\"\n",
    "    elif speaker == 1:\n",
    "        return \"Bednarsky\"\n",
    "    elif speaker == 2:\n",
    "        return \"Zaikov\"\n",
    "    elif speaker == 3:\n",
    "        return \"Ankur\"\n",
    "    elif speaker == 4:\n",
    "        return \"Caroline\"\n",
    "    elif speaker == 5:\n",
    "        return \"Rodolfo\"\n",
    "    else: \n",
    "        speaker = \"Unknown\"\n",
    "        \n",
    "def printPrediction(X_data, y_data, printDigit):\n",
    "    print('\\n# Generate predictions')\n",
    "    for i in range(len(y_data)):\n",
    "        prediction = getSpeaker(np.argmax(model.predict(X_data[i:i+1]), axis=-1)[0])\n",
    "        #deprecetad:  prediction = getSpeaker(model.predict_classes(X_data[i:i+1])[0])\n",
    "\n",
    "        speaker = getSpeaker(y_data[i])\n",
    "        if printDigit == True:\n",
    "            print(\"Number={0:d}, y={1:10s}- prediction={2:10s}- match={3}\".format(i, speaker, prediction, speaker==prediction))\n",
    "        else:\n",
    "            print(\"y={0:10s}- prediction={1:10s}- match={2}\".format(speaker, prediction, speaker==prediction))"
   ]
  },
  {
   "cell_type": "code",
   "execution_count": 10,
   "metadata": {},
   "outputs": [],
   "source": [
    "import numpy as np\n",
    "from keras import backend as K\n",
    "from keras.models import Sequential\n",
    "from keras.layers.core import Dense, Dropout, Activation, Flatten\n",
    "from keras.layers.convolutional import Convolution2D, MaxPooling2D\n",
    "from keras.preprocessing.image import ImageDataGenerator\n",
    "from sklearn.metrics import classification_report, confusion_matrix\n",
    "\n",
    "def report(X_data, y_data):\n",
    "    #Confution Matrix and Classification Report\n",
    "    Y_pred = model.predict_classes(X_data)\n",
    "    y_test_num = y_data.astype(np.int64)\n",
    "    conf_mt = confusion_matrix(y_test_num, Y_pred)\n",
    "    print(conf_mt)\n",
    "    plt.matshow(conf_mt)\n",
    "    plt.show()\n",
    "    print('\\nClassification Report')\n",
    "    target_names = [\"Jackson\", \"Nicola\", \"Theo\", \"Ankur\", \"Caroline\", \"Rodolfo\", \"Unknown\"]\n",
    "    print(classification_report(y_test_num, Y_pred))\n"
   ]
  },
  {
   "cell_type": "markdown",
   "metadata": {},
   "source": [
    "### Проверяем на тестовом датасете"
   ]
  },
  {
   "cell_type": "code",
   "execution_count": 11,
   "metadata": {
    "colab": {
     "base_uri": "https://localhost:8080/",
     "height": 86
    },
    "colab_type": "code",
    "id": "HSVxu84pRgZa",
    "outputId": "eb9242c9-7bff-4d54-a58c-60a915aad7d2"
   },
   "outputs": [
    {
     "name": "stdout",
     "output_type": "stream",
     "text": [
      "\n",
      "# TEST DATA #\n",
      "\n",
      "1/1 [==============================] - 0s 88ms/step - loss: 4.1063 - accuracy: 0.6667\n",
      "accuracy: 66.67%\n",
      "\n",
      "# Generate predictions\n",
      "1/1 [==============================] - 0s 282ms/step\n",
      "y=Bednarsky - prediction=Bednarsky - match=True\n",
      "1/1 [==============================] - 0s 57ms/step\n",
      "y=Kazanin   - prediction=Zaikov    - match=False\n",
      "1/1 [==============================] - 0s 64ms/step\n",
      "y=Zaikov    - prediction=Zaikov    - match=True\n"
     ]
    }
   ],
   "source": [
    "print('\\n# TEST DATA #\\n')\n",
    "score = model.evaluate(X_test, y_test)\n",
    "print(\"%s: %.2f%%\" % (model.metrics_names[1], score[1]*100))\n",
    "\n",
    "# Prediction\n",
    "printPrediction(X_test[0:100], y_test[0:100], False)"
   ]
  }
 ],
 "metadata": {
  "accelerator": "GPU",
  "colab": {
   "name": "sound-regnize-Keras.ipynb",
   "provenance": []
  },
  "kernelspec": {
   "display_name": "Python 3.10.4 64-bit",
   "language": "python",
   "name": "python3"
  },
  "language_info": {
   "codemirror_mode": {
    "name": "ipython",
    "version": 3
   },
   "file_extension": ".py",
   "mimetype": "text/x-python",
   "name": "python",
   "nbconvert_exporter": "python",
   "pygments_lexer": "ipython3",
   "version": "3.10.4"
  },
  "vscode": {
   "interpreter": {
    "hash": "22c61a617fe55e4d9168a5346b2892267601016f55eef7b980b10e049206c964"
   }
  }
 },
 "nbformat": 4,
 "nbformat_minor": 1
}
